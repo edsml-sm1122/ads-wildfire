{
 "cells": [
  {
   "cell_type": "code",
   "execution_count": 74,
   "id": "d2a75b58",
   "metadata": {},
   "outputs": [],
   "source": [
    "import numpy as np\n",
    "import tensorflow as tf\n",
    "\n",
    "import matplotlib.pyplot as plt\n",
    "import numpy as np\n",
    "import os\n",
    "from tensorflow.keras import layers"
   ]
  },
  {
   "cell_type": "code",
   "execution_count": 91,
   "id": "53d6788b",
   "metadata": {},
   "outputs": [],
   "source": [
    "tf.config.experimental_run_functions_eagerly(True)\n",
    "tf.config.run_functions_eagerly(True)\n",
    "tf.data.experimental.enable_debug_mode()"
   ]
  },
  {
   "cell_type": "code",
   "execution_count": 114,
   "id": "c130a0f6",
   "metadata": {},
   "outputs": [],
   "source": [
    "# TODO\n",
    "# - split data into 13 training sets\n",
    "# - try VAE\n",
    "#   - change up\n",
    "#   - explain with comments\n",
    "#   - KL annealing?\n",
    "# - try GAN\n",
    "# - try DIFF"
   ]
  },
  {
   "cell_type": "code",
   "execution_count": 8,
   "id": "c25f81f0",
   "metadata": {},
   "outputs": [],
   "source": [
    "train_path = 'data/Ferguson_fire_train.npy'\n",
    "val_path = 'data/Ferguson_fire_test.npy'\n",
    "test_path = 'data/Ferguson_fire_obs.npy'"
   ]
  },
  {
   "cell_type": "code",
   "execution_count": 137,
   "id": "a7e1adb2",
   "metadata": {},
   "outputs": [],
   "source": [
    "#load data - no standardisation required\n",
    "\n",
    "train_data = np.array(np.load(open(train_path,'rb')))\n",
    "train_data_1D = np.reshape(train_data, (np.shape(train_data)[0],np.shape(train_data)[1]*np.shape(train_data)[2]))\n",
    "train_data_1D_shifted = train_data_1D[1:]"
   ]
  },
  {
   "cell_type": "code",
   "execution_count": 192,
   "id": "36453912",
   "metadata": {},
   "outputs": [
    {
     "data": {
      "text/plain": [
       "<matplotlib.image.AxesImage at 0x289d0e820>"
      ]
     },
     "execution_count": 192,
     "metadata": {},
     "output_type": "execute_result"
    },
    {
     "data": {
      "image/png": "[encoded data removed]",
      "text/plain": [
       "<Figure size 640x480 with 1 Axes>"
      ]
     },
     "metadata": {},
     "output_type": "display_data"
    }
   ],
   "source": [
    "plt.imshow(train_data[])"
   ]
  },
  {
   "cell_type": "code",
   "execution_count": 213,
   "id": "2c15b782",
   "metadata": {},
   "outputs": [],
   "source": [
    "def split_by_fire(arr, chunk_size):\n",
    "    L = len(arr)\n",
    "    num_chunks = L // chunk_size\n",
    "    remainder = L % chunk_size\n",
    "    chunks = np.split(arr[:L-remainder], num_chunks)\n",
    "    if remainder != 0:\n",
    "        chunks.append(arr[L-remainder:])\n",
    "    return chunks\n",
    "\n",
    "def create_x_y(data, chunk_size = 500):\n",
    "    x = split_by_fire(data, chunk_size)\n",
    "    y = split_by_fire(data, chunk_size)\n",
    "    for i in range(len(x)):\n",
    "        x[i] = x[i][:-1]\n",
    "        y[i] = y[i][1:]\n",
    "    return np.concatenate(x),np.concatenate(y) #test this\n",
    "\n"
   ]
  },
  {
   "cell_type": "code",
   "execution_count": 214,
   "id": "aeae5a03",
   "metadata": {},
   "outputs": [],
   "source": [
    "train_data = np.array(np.load(open(train_path,'rb')))\n",
    "train_data_1D = np.reshape(train_data, (np.shape(train_data)[0],np.shape(train_data)[1]*np.shape(train_data)[2]))\n",
    "train_data_x, train_data_y = create_x_y(train_data_1D)\n",
    "\n",
    "val_data = np.array(np.load(open(val_path,'rb')))\n",
    "val_data_1D = np.reshape(val_data, (np.shape(val_data)[0],np.shape(val_data)[1]*np.shape(val_data)[2]))\n",
    "val_data_x, val_data_y = create_x_y(val_data_1D)\n",
    "\n",
    "test_data = np.array(np.load(open(test_path,'rb')))\n",
    "test_data_1D = np.reshape(test_data, (np.shape(test_data)[0],np.shape(test_data)[1]*np.shape(test_data)[2]))\n",
    "test_data_1D_shifted = test_data_1D[1:]\n",
    "test_data_1D = test_data_1D[:-1]"
   ]
  },
  {
   "cell_type": "code",
   "execution_count": null,
   "id": "ebd5d1c9",
   "metadata": {},
   "outputs": [],
   "source": [
    "# try some fancy data aug stuff here?\n",
    "\n",
    "# train_dataset = tf.data.Dataset.from_tensor_slices(train_data).shuffle(BUFFER_SIZE).batch(BATCH_SIZE)"
   ]
  },
  {
   "cell_type": "code",
   "execution_count": 198,
   "id": "6348f99b",
   "metadata": {},
   "outputs": [],
   "source": [
    "BATCH_SIZE = 128\n",
    "LATENT_DIM = 2\n",
    "LEARNING_RATE = 0.001\n",
    "EPOCHS = 100\n",
    "INPUT_SHAPE = 65536"
   ]
  },
  {
   "cell_type": "code",
   "execution_count": 215,
   "id": "53836a21",
   "metadata": {},
   "outputs": [],
   "source": [
    "#explain everything with comments\n",
    "\n",
    "def sampling(args, latent_dim=LATENT_DIM):\n",
    "    mean, log_var = args\n",
    "    eps = tf.random.normal(shape=(tf.shape(mean)[0], latent_dim), mean=0., stddev=1.0)\n",
    "    return mean + tf.exp(log_var/2.) * eps\n",
    "\n",
    "def make_encoder(input_shape=INPUT_SHAPE, latent_dim=LATENT_DIM, condition_size=CONDITION_SIZE, batch_size=BATCH_SIZE):\n",
    "    x = layers.Input(shape=(input_shape,))\n",
    "    h = layers.Dense(units=512,activation='relu',activity_regularizer=tf.keras.regularizers.l1(1e-5))(x)\n",
    "    h = layers.Dense(units=256,activation='relu',activity_regularizer=tf.keras.regularizers.l1(1e-5))(h)\n",
    "    h = layers.Dense(units=128,activation='relu',activity_regularizer=tf.keras.regularizers.l1(1e-5))(h)\n",
    "    h = layers.Dense(units=64,activation='relu',activity_regularizer=tf.keras.regularizers.l1(1e-5))(h)\n",
    "    mean = layers.Dense(units=latent_dim)(h)\n",
    "    log_var = layers.Dense(units=latent_dim)(h)\n",
    "    return tf.keras.Model(inputs=[x],outputs=[mean,log_var], name='encoder')\n",
    "\n",
    "def make_decoder(output_shape=INPUT_SHAPE, batch_size=BATCH_SIZE, latent_dim=LATENT_DIM, condition_size=CONDITION_SIZE):\n",
    "    z = layers.Input(shape=(latent_dim,))\n",
    "    h = layers.Dense(units=64,activation='relu',activity_regularizer=tf.keras.regularizers.l1(1e-5))(z)\n",
    "    h = layers.Dense(units=128,activation='relu',activity_regularizer=tf.keras.regularizers.l1(1e-5))(h)\n",
    "    h1 = layers.Dense(units=256,activation='relu',activity_regularizer=tf.keras.regularizers.l1(1e-5))(h) # prevent vanishing grads\n",
    "    h2 = layers.Dense(units=512,activation='relu',activity_regularizer=tf.keras.regularizers.l1(1e-5))(h1) \n",
    "    y = layers.Dense(units=output_shape,activation='sigmoid')(h2)\n",
    "    return tf.keras.Model(inputs=[z],outputs=y, name='decoder')\n",
    "\n",
    "#change this MASSIVELY \n",
    "def loss(x, y, mean, log_var, alpha=1.0, beta=1.0):\n",
    "    r_loss = tf.keras.losses.mean_squared_error(y_true=x, y_pred=y)\n",
    "    r_loss = tf.reduce_mean(r_loss, name='recon_loss')\n",
    "    kl_loss = -0.5 * tf.reduce_mean(log_var - tf.square(mean) - tf.exp(log_var) + 1)\n",
    "    kl_loss = tf.identity(kl_loss, name=\"kl_loss\")\n",
    "#     cvae_loss = alpha*r_loss + beta*kl_loss\n",
    "    cvae_loss = alpha*r_loss + 0.0001*kl_loss\n",
    "    return cvae_loss"
   ]
  },
  {
   "cell_type": "code",
   "execution_count": 216,
   "id": "023e388f",
   "metadata": {
    "scrolled": false
   },
   "outputs": [],
   "source": [
    "encoder = make_encoder()\n",
    "decoder = make_decoder()\n",
    "\n",
    "\n",
    "x = layers.Input(shape=(INPUT_SHAPE,))\n",
    "mean, log_var = encoder([x])\n",
    "z = layers.Lambda(sampling)([mean, log_var])\n",
    "y = decoder([z])\n",
    "\n",
    "cvae = tf.keras.Model(inputs=[x], outputs=y, name='cvae')\n",
    "cvae.add_loss(loss(x,y,mean,log_var,alpha=10))\n",
    "cvae.compile(optimizer=tf.keras.optimizers.Adam(LEARNING_RATE))"
   ]
  },
  {
   "cell_type": "code",
   "execution_count": 217,
   "id": "b5777141",
   "metadata": {
    "scrolled": false
   },
   "outputs": [
    {
     "name": "stdout",
     "output_type": "stream",
     "text": [
      "Epoch 1/100\n",
      "98/98 [==============================] - 47s 480ms/step - loss: 252.5925 - val_loss: 0.2182\n",
      "Epoch 2/100\n",
      "98/98 [==============================] - 46s 467ms/step - loss: 0.1831 - val_loss: 0.1613\n",
      "Epoch 3/100\n",
      "98/98 [==============================] - 46s 469ms/step - loss: 0.1594 - val_loss: 0.1519\n",
      "Epoch 4/100\n",
      "98/98 [==============================] - 47s 476ms/step - loss: 0.1505 - val_loss: 0.1405\n",
      "Epoch 5/100\n",
      "98/98 [==============================] - 47s 482ms/step - loss: 0.1328 - val_loss: 0.1178\n",
      "Epoch 6/100\n",
      "98/98 [==============================] - 50s 510ms/step - loss: 0.1148 - val_loss: 0.1062\n",
      "Epoch 7/100\n",
      "98/98 [==============================] - 48s 491ms/step - loss: 0.1058 - val_loss: 0.0985\n",
      "Epoch 8/100\n",
      "98/98 [==============================] - 48s 491ms/step - loss: 0.0939 - val_loss: 0.0947\n",
      "Epoch 9/100\n",
      "98/98 [==============================] - 48s 492ms/step - loss: 0.0896 - val_loss: 0.0906\n",
      "Epoch 10/100\n",
      "98/98 [==============================] - 48s 493ms/step - loss: 0.0865 - val_loss: 0.0889\n",
      "Epoch 11/100\n",
      "98/98 [==============================] - 48s 490ms/step - loss: 0.0857 - val_loss: 0.0896\n",
      "Epoch 12/100\n",
      "98/98 [==============================] - 48s 490ms/step - loss: 0.0844 - val_loss: 0.0896\n",
      "Training stopped\n"
     ]
    }
   ],
   "source": [
    "if not os.path.exists('models'):\n",
    "    os.makedirs('models')\n",
    "chkpt_filepath = 'models/best'\n",
    "\n",
    "my_callbacks = [\n",
    "    tf.keras.callbacks.EarlyStopping(monitor='val_loss', mode='min', patience=3), # monitors val_loss to prevent overfitting\n",
    "    # save best model weights to allow reloading if training stopped early\n",
    "    tf.keras.callbacks.ModelCheckpoint(filepath=chkpt_filepath, save_weights_only=True, monitor='val_loss', mode='min', save_best_only=True),\n",
    "]\n",
    "    \n",
    "history = cvae.fit(train_data_x, train_data_y, epochs=100, batch_size=128, validation_data=(val_data_x,val_data_y), shuffle=True, callbacks=[my_callbacks])\n",
    "cvae.load_weights(chkpt_filepath) # reloads best model weights\n",
    "print(\"Training stopped\")"
   ]
  },
  {
   "cell_type": "code",
   "execution_count": 224,
   "id": "72f4bb09",
   "metadata": {},
   "outputs": [
    {
     "data": {
      "text/plain": [
       "<matplotlib.legend.Legend at 0x2e2d379a0>"
      ]
     },
     "execution_count": 224,
     "metadata": {},
     "output_type": "execute_result"
    },
    {
     "data": {
      "image/png": "[encoded data removed]",
      "text/plain": [
       "<Figure size 640x480 with 1 Axes>"
      ]
     },
     "metadata": {},
     "output_type": "display_data"
    }
   ],
   "source": [
    "plt.plot(history.history['loss'])\n",
    "plt.plot(history.history['val_loss'])\n",
    "plt.legend(['Loss', 'Val_loss'])"
   ]
  },
  {
   "cell_type": "code",
   "execution_count": 225,
   "id": "31eaff41",
   "metadata": {},
   "outputs": [
    {
     "name": "stdout",
     "output_type": "stream",
     "text": [
      "1/1 [==============================] - 0s 34ms/step\n",
      "MSE: 0.06925555100054566\n"
     ]
    }
   ],
   "source": [
    "from sklearn.metrics import mean_squared_error\n",
    "\n",
    "# test model\n",
    "\n",
    "test_data_gen = cvae.predict(test_data_1D)\n",
    "\n",
    "mse = mean_squared_error(test_data_gen, test_data_1D_shifted)\n",
    "print(f'MSE: {mse}')"
   ]
  },
  {
   "cell_type": "code",
   "execution_count": 226,
   "id": "11c33a53",
   "metadata": {},
   "outputs": [
    {
     "data": {
      "image/png": "[encoded data removed]",
      "text/plain": [
       "<Figure size 1000x600 with 8 Axes>"
      ]
     },
     "metadata": {},
     "output_type": "display_data"
    }
   ],
   "source": [
    "# plot original test data against generated test data\n",
    "\n",
    "from random import randrange\n",
    "\n",
    "plt.figure(figsize=(10, 6))\n",
    "\n",
    "for i in range(1, 5):\n",
    "    plt.subplot(2, 4, i)\n",
    "    if i == 1:\n",
    "        plt.title('Original:', loc='center')\n",
    "    plt.imshow(test_data_1D_shifted[i-1,:].reshape(np.shape(test_data)[1],np.shape(test_data)[2]),cmap='gray_r')\n",
    "    plt.axis('off') \n",
    "    \n",
    "    plt.subplot(2, 4, i + 4)\n",
    "    if i == 1:\n",
    "        plt.title('(C)VAE:', loc='center')\n",
    "    plt.imshow(test_data_gen[i-1,:].reshape(np.shape(test_data)[1],np.shape(test_data)[2]),cmap='gray_r')\n",
    "    plt.axis('off')\n",
    "\n",
    "plt.subplots_adjust(top=0.85, bottom=0.5, wspace=0.05)\n",
    "plt.show()"
   ]
  }
 ],
 "metadata": {
  "kernelspec": {
   "display_name": "Python 3 (ipykernel)",
   "language": "python",
   "name": "python3"
  },
  "language_info": {
   "codemirror_mode": {
    "name": "ipython",
    "version": 3
   },
   "file_extension": ".py",
   "mimetype": "text/x-python",
   "name": "python",
   "nbconvert_exporter": "python",
   "pygments_lexer": "ipython3",
   "version": "3.9.13"
  }
 },
 "nbformat": 4,
 "nbformat_minor": 5
}
