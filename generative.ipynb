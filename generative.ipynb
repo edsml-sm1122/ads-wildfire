{
 "cells": [
  {
   "cell_type": "code",
   "execution_count": 27,
   "id": "249151a9",
   "metadata": {},
   "outputs": [],
   "source": [
    "import numpy as np\n",
    "import tensorflow as tf\n",
    "\n",
    "import matplotlib.pyplot as plt\n",
    "import numpy as np\n",
    "import os\n",
    "from tensorflow.keras import layers"
   ]
  },
  {
   "cell_type": "code",
   "execution_count": 40,
   "id": "7f0bd96b",
   "metadata": {},
   "outputs": [],
   "source": [
    "tf.config.experimental_run_functions_eagerly(True)\n",
    "tf.config.run_functions_eagerly(True)\n",
    "tf.data.experimental.enable_debug_mode()"
   ]
  },
  {
   "cell_type": "code",
   "execution_count": 41,
   "id": "f3e201e7",
   "metadata": {},
   "outputs": [],
   "source": [
    "# TODO\n",
    "# - try VAE\n",
    "#   - tidy up\n",
    "#   - explain with comments\n",
    "#   - KL annealing?\n",
    "#   - move to py file and import\n",
    "#   - comment py file\n",
    "#   - test py file\n",
    "# - save data"
   ]
  },
  {
   "cell_type": "code",
   "execution_count": 42,
   "id": "7e33132a",
   "metadata": {},
   "outputs": [],
   "source": [
    "# FORECASTING"
   ]
  },
  {
   "cell_type": "code",
   "execution_count": 43,
   "id": "dacda956",
   "metadata": {},
   "outputs": [],
   "source": [
    "train_path = 'data/Ferguson_fire_train.npy'\n",
    "val_path = 'data/Ferguson_fire_test.npy'\n",
    "test_path = 'data/Ferguson_fire_obs.npy'"
   ]
  },
  {
   "cell_type": "code",
   "execution_count": 44,
   "id": "c6817a15",
   "metadata": {},
   "outputs": [],
   "source": [
    "def split_by_fire(arr, chunk_size):\n",
    "    L = len(arr)\n",
    "    num_chunks = L // chunk_size\n",
    "    remainder = L % chunk_size\n",
    "    chunks = np.split(arr[:L-remainder], num_chunks)\n",
    "    if remainder != 0:\n",
    "        chunks.append(arr[L-remainder:])\n",
    "    return chunks\n",
    "\n",
    "def create_x_y(data, chunk_size = 500):\n",
    "    x = split_by_fire(data, chunk_size)\n",
    "    y = split_by_fire(data, chunk_size)\n",
    "    for i in range(len(x)):\n",
    "        x[i] = x[i][:-1]\n",
    "        y[i] = y[i][1:]\n",
    "    return np.concatenate(x),np.concatenate(y)"
   ]
  },
  {
   "cell_type": "code",
   "execution_count": 45,
   "id": "51191b19",
   "metadata": {},
   "outputs": [],
   "source": [
    "train_data = np.array(np.load(open(train_path,'rb')))\n",
    "train_data_1D = np.reshape(train_data, (np.shape(train_data)[0],np.shape(train_data)[1]*np.shape(train_data)[2]))\n",
    "train_data_x, train_data_y = create_x_y(train_data_1D)\n",
    "\n",
    "val_data = np.array(np.load(open(val_path,'rb')))\n",
    "val_data_1D = np.reshape(val_data, (np.shape(val_data)[0],np.shape(val_data)[1]*np.shape(val_data)[2]))\n",
    "val_data_x, val_data_y = create_x_y(val_data_1D)\n",
    "\n",
    "test_data = np.array(np.load(open(test_path,'rb')))\n",
    "test_data_1D = np.reshape(test_data, (np.shape(test_data)[0],np.shape(test_data)[1]*np.shape(test_data)[2]))\n",
    "test_data_1D_shifted = test_data_1D[1:]\n",
    "test_data_1D = test_data_1D[:-1]"
   ]
  },
  {
   "cell_type": "code",
   "execution_count": 46,
   "id": "a4a1baa8",
   "metadata": {},
   "outputs": [],
   "source": [
    "# try some fancy data aug stuff here?\n",
    "\n",
    "# train_dataset = tf.data.Dataset.from_tensor_slices(train_data).shuffle(BUFFER_SIZE).batch(BATCH_SIZE)"
   ]
  },
  {
   "cell_type": "code",
   "execution_count": 47,
   "id": "d1cef390",
   "metadata": {},
   "outputs": [],
   "source": [
    "BATCH_SIZE = 128\n",
    "LATENT_DIM = 2\n",
    "LEARNING_RATE = 0.001\n",
    "EPOCHS = 100\n",
    "INPUT_SHAPE = 65536"
   ]
  },
  {
   "cell_type": "code",
   "execution_count": 52,
   "id": "f4a2c635",
   "metadata": {},
   "outputs": [],
   "source": [
    "# train_dataset = tf.data.Dataset.from_tensor_slices(train_data).shuffle(BUFFER_SIZE).batch(BATCH_SIZE)\n",
    "\n",
    "def sampling(args, latent_dim=LATENT_DIM):\n",
    "    mean, log_var = args\n",
    "    eps = tf.random.normal(shape=(tf.shape(mean)[0], latent_dim), mean=0., stddev=1.0)\n",
    "    return mean + tf.exp(log_var/2.) * eps\n",
    "\n",
    "def make_encoder(input_shape=INPUT_SHAPE, latent_dim=LATENT_DIM, condition_size=2, batch_size=BATCH_SIZE):\n",
    "    x = layers.Input(shape=(input_shape,))\n",
    "    h = layers.Dense(units=512,activation='relu',activity_regularizer=tf.keras.regularizers.l1(1e-5))(x)\n",
    "    h = layers.Dense(units=256,activation='relu',activity_regularizer=tf.keras.regularizers.l1(1e-5))(h)\n",
    "    h = layers.Dense(units=128,activation='relu',activity_regularizer=tf.keras.regularizers.l1(1e-5))(h)\n",
    "    h = layers.Dense(units=64,activation='relu',activity_regularizer=tf.keras.regularizers.l1(1e-5))(h)\n",
    "    mean = layers.Dense(units=latent_dim)(h)\n",
    "    log_var = layers.Dense(units=latent_dim)(h)\n",
    "    return tf.keras.Model(inputs=[x],outputs=[mean,log_var], name='encoder')\n",
    "\n",
    "def make_decoder(output_shape=INPUT_SHAPE, batch_size=BATCH_SIZE, latent_dim=LATENT_DIM, condition_size=2):\n",
    "    z = layers.Input(shape=(latent_dim,))\n",
    "    \n",
    "    h1 = layers.Dense(units=256,activation='relu',activity_regularizer=tf.keras.regularizers.l1(1e-5))(z) # prevent vanishing grads\n",
    "    h2 = layers.Dense(units=512,activation='relu',activity_regularizer=tf.keras.regularizers.l1(1e-5))(h1) \n",
    "    y = layers.Dense(units=output_shape,activation='sigmoid')(h2)\n",
    "    return tf.keras.Model(inputs=[z],outputs=y, name='decoder')\n",
    "\n",
    "def loss(x, y, mean, log_var, alpha=1.0, beta=1.0):\n",
    "    reconstruction_loss = tf.keras.losses.mean_squared_error(y_true=x, y_pred=y)\n",
    "    reconstruction_loss = tf.reduce_mean(reconstruction_loss, name='recon_loss')\n",
    "    kl_loss = - 0.5 * tf.reduce_mean(log_var - tf.square(mean) - tf.exp(log_var) + 1)\n",
    "    kl_loss = tf.identity(kl_loss, name=\"kl_loss\")\n",
    "    cvae_loss = alpha*reconstruction_loss + beta*kl_loss\n",
    "    return cvae_loss\n",
    "\n",
    "encoder = make_encoder()\n",
    "decoder = make_decoder()\n",
    "\n",
    "\n",
    "x = layers.Input(shape=(INPUT_SHAPE,))\n",
    "mean, log_var = encoder([x])\n",
    "z = layers.Lambda(sampling)([mean, log_var])\n",
    "y = decoder([z])\n",
    "\n",
    "cvae = tf.keras.Model(inputs=[x], outputs=y, name='cvae')\n",
    "cvae.add_loss(loss(x,y,mean,log_var,alpha=10))\n",
    "cvae.compile(optimizer=tf.keras.optimizers.Adam(LEARNING_RATE))"
   ]
  },
  {
   "cell_type": "code",
   "execution_count": 53,
   "id": "700a66f5",
   "metadata": {
    "scrolled": false
   },
   "outputs": [],
   "source": [
    "encoder = make_encoder()\n",
    "decoder = make_decoder()\n",
    "\n",
    "\n",
    "x = layers.Input(shape=(INPUT_SHAPE,))\n",
    "mean, log_var = encoder([x])\n",
    "z = layers.Lambda(sampling)([mean, log_var])\n",
    "y = decoder([z])\n",
    "\n",
    "cvae = tf.keras.Model(inputs=[x], outputs=y, name='cvae')\n",
    "cvae.add_loss(loss(x,y,mean,log_var,alpha=10))\n",
    "cvae.compile(optimizer=tf.keras.optimizers.Adam(LEARNING_RATE))"
   ]
  },
  {
   "cell_type": "code",
   "execution_count": 51,
   "id": "2c0964ef",
   "metadata": {
    "scrolled": false
   },
   "outputs": [
    {
     "name": "stdout",
     "output_type": "stream",
     "text": [
      "Epoch 1/100\n",
      "98/98 [==============================] - 116s 1s/step - loss: 0.0713 - val_loss: 0.0847\n",
      "Epoch 2/100\n",
      "98/98 [==============================] - 79s 802ms/step - loss: 0.0718 - val_loss: 0.0846\n",
      "Epoch 3/100\n",
      "98/98 [==============================] - 72s 732ms/step - loss: 0.0719 - val_loss: 0.0852\n",
      "Epoch 4/100\n",
      "98/98 [==============================] - 75s 759ms/step - loss: 0.0718 - val_loss: 0.0821\n",
      "Epoch 5/100\n",
      "98/98 [==============================] - 73s 740ms/step - loss: 0.0687 - val_loss: 0.0825\n",
      "Epoch 6/100\n",
      "98/98 [==============================] - 73s 748ms/step - loss: 0.0682 - val_loss: 0.0829\n",
      "Epoch 7/100\n",
      "98/98 [==============================] - 73s 748ms/step - loss: 0.0676 - val_loss: 0.0835\n",
      "Training stopped\n"
     ]
    }
   ],
   "source": [
    "if not os.path.exists('models'):\n",
    "    os.makedirs('models')\n",
    "chkpt_filepath = 'models/best'\n",
    "\n",
    "my_callbacks = [\n",
    "    tf.keras.callbacks.EarlyStopping(monitor='val_loss', mode='min', patience=3), # monitors val_loss to prevent overfitting\n",
    "    # save best model weights to allow reloading if training stopped early\n",
    "    tf.keras.callbacks.ModelCheckpoint(filepath=chkpt_filepath, save_weights_only=True, monitor='val_loss', mode='min', save_best_only=True),\n",
    "]\n",
    "    \n",
    "history = cvae.fit(train_data_x, train_data_y, epochs=100, batch_size=128, validation_data=(val_data_x,val_data_y), shuffle=True, callbacks=[my_callbacks])\n",
    "cvae.load_weights(chkpt_filepath) # reloads best model weights\n",
    "print(\"Training stopped\")"
   ]
  },
  {
   "cell_type": "code",
   "execution_count": 14,
   "id": "e26a685c",
   "metadata": {},
   "outputs": [
    {
     "data": {
      "text/plain": [
       "<matplotlib.legend.Legend at 0x2996189a0>"
      ]
     },
     "execution_count": 14,
     "metadata": {},
     "output_type": "execute_result"
    },
    {
     "data": {
      "image/png": "[encoded data removed]",
      "text/plain": [
       "<Figure size 640x480 with 1 Axes>"
      ]
     },
     "metadata": {},
     "output_type": "display_data"
    }
   ],
   "source": [
    "plt.plot(history.history['loss'])\n",
    "plt.plot(history.history['val_loss'])\n",
    "plt.legend(['Loss', 'Val_loss'])"
   ]
  },
  {
   "cell_type": "code",
   "execution_count": 15,
   "id": "16bdbc3c",
   "metadata": {},
   "outputs": [
    {
     "name": "stdout",
     "output_type": "stream",
     "text": [
      "1/1 [==============================] - 0s 40ms/step\n",
      "MSE: 0.09412865798293414\n"
     ]
    }
   ],
   "source": [
    "from sklearn.metrics import mean_squared_error\n",
    "\n",
    "# test model\n",
    "\n",
    "test_data_gen = cvae.predict(test_data_1D)\n",
    "\n",
    "mse = mean_squared_error(test_data_gen, test_data_1D_shifted)\n",
    "print(f'MSE: {mse}')"
   ]
  },
  {
   "cell_type": "code",
   "execution_count": 16,
   "id": "5165b49e",
   "metadata": {},
   "outputs": [
    {
     "data": {
      "image/png": "[encoded data removed]",
      "text/plain": [
       "<Figure size 1000x600 with 8 Axes>"
      ]
     },
     "metadata": {},
     "output_type": "display_data"
    }
   ],
   "source": [
    "# plot original test data against generated test data\n",
    "\n",
    "from random import randrange\n",
    "\n",
    "plt.figure(figsize=(10, 6))\n",
    "\n",
    "for i in range(1, 5):\n",
    "    plt.subplot(2, 4, i)\n",
    "    if i == 1:\n",
    "        plt.title('Original:', loc='center')\n",
    "    plt.imshow(test_data_1D_shifted[i-1,:].reshape(np.shape(test_data)[1],np.shape(test_data)[2]), cmap='gray_r')\n",
    "    plt.axis('off') \n",
    "    \n",
    "    plt.subplot(2, 4, i + 4)\n",
    "    if i == 1:\n",
    "        plt.title('(C)VAE:', loc='center')\n",
    "    plt.imshow(test_data_gen[i-1,:].reshape(np.shape(test_data)[1],np.shape(test_data)[2]), cmap='gray_r')\n",
    "    plt.axis('off')\n",
    "\n",
    "plt.subplots_adjust(top=0.85, bottom=0.5, wspace=0.05)\n",
    "plt.show()"
   ]
  },
  {
   "cell_type": "code",
   "execution_count": null,
   "id": "8431e0ce",
   "metadata": {},
   "outputs": [],
   "source": [
    "# ASSIMILATION\n",
    "# - compute R in physical space (for obvs)\n",
    "# - compress R\n",
    "# - perform DA in compressed space (PCA or decoder VAE)\n",
    "# - calculate MSE in compressed space and physical space (after decompression)"
   ]
  },
  {
   "cell_type": "code",
   "execution_count": 17,
   "id": "ae9619a1",
   "metadata": {},
   "outputs": [],
   "source": [
    "from numpy.linalg import inv\n",
    "\n",
    "def covariance_matrix(X):\n",
    "    means = np.array([np.mean(X, axis = 1)]).transpose()\n",
    "    dev_matrix = X - means\n",
    "    res = np.dot(dev_matrix, dev_matrix.transpose())/(X.shape[1]-1)\n",
    "    return res\n",
    "\n",
    "def update_prediction(x, K, H, y):\n",
    "    res = x + np.dot(K,(y - np.dot(H, x)))\n",
    "    return res  \n",
    "\n",
    "def KalmanGain(B, H, R):\n",
    "    tempInv = inv(R + np.dot(H,np.dot(B,H.transpose())))\n",
    "    res = np.dot(B,np.dot(H.transpose(),tempInv))\n",
    "    return res\n",
    "\n",
    "def mse(y_obs, y_pred):\n",
    "    return np.square(np.subtract(y_obs,y_pred)).mean()"
   ]
  },
  {
   "cell_type": "code",
   "execution_count": 18,
   "id": "d7a4769c",
   "metadata": {},
   "outputs": [],
   "source": [
    "background_path = 'data/Ferguson_fire_background.npy'\n",
    "\n",
    "background_data = np.array(np.load(open(background_path,'rb')))\n",
    "background_data_1D = np.reshape(background_data, (np.shape(background_data)[0],np.shape(background_data)[1]*np.shape(background_data)[2]))"
   ]
  },
  {
   "cell_type": "code",
   "execution_count": 19,
   "id": "94dae600",
   "metadata": {},
   "outputs": [
    {
     "name": "stdout",
     "output_type": "stream",
     "text": [
      "1/1 [==============================] - 0s 20ms/step\n",
      "1/1 [==============================] - 0s 14ms/step\n"
     ]
    },
    {
     "ename": "ValueError",
     "evalue": "m has more than 2 dimensions",
     "output_type": "error",
     "traceback": [
      "\u001b[0;31m---------------------------------------------------------------------------\u001b[0m",
      "\u001b[0;31mValueError\u001b[0m                                Traceback (most recent call last)",
      "Cell \u001b[0;32mIn [19], line 4\u001b[0m\n\u001b[1;32m      1\u001b[0m test_data_compr \u001b[38;5;241m=\u001b[39m encoder\u001b[38;5;241m.\u001b[39mpredict(test_data_1D)\n\u001b[1;32m      2\u001b[0m background_data_compr \u001b[38;5;241m=\u001b[39m encoder\u001b[38;5;241m.\u001b[39mpredict(background_data_1D)\n\u001b[0;32m----> 4\u001b[0m R \u001b[38;5;241m=\u001b[39m \u001b[43mnp\u001b[49m\u001b[38;5;241;43m.\u001b[39;49m\u001b[43mcov\u001b[49m\u001b[43m(\u001b[49m\u001b[43mtest_data_compr\u001b[49m\u001b[43m)\u001b[49m\n\u001b[1;32m      5\u001b[0m H \u001b[38;5;241m=\u001b[39m R \n\u001b[1;32m      6\u001b[0m B \u001b[38;5;241m=\u001b[39m np\u001b[38;5;241m.\u001b[39mcov(background_data_compr\u001b[38;5;241m.\u001b[39mT)\n",
      "File \u001b[0;32m<__array_function__ internals>:180\u001b[0m, in \u001b[0;36mcov\u001b[0;34m(*args, **kwargs)\u001b[0m\n",
      "File \u001b[0;32m/opt/homebrew/Caskroom/miniconda/base/lib/python3.9/site-packages/numpy/lib/function_base.py:2617\u001b[0m, in \u001b[0;36mcov\u001b[0;34m(m, y, rowvar, bias, ddof, fweights, aweights, dtype)\u001b[0m\n\u001b[1;32m   2615\u001b[0m m \u001b[38;5;241m=\u001b[39m np\u001b[38;5;241m.\u001b[39masarray(m)\n\u001b[1;32m   2616\u001b[0m \u001b[38;5;28;01mif\u001b[39;00m m\u001b[38;5;241m.\u001b[39mndim \u001b[38;5;241m>\u001b[39m \u001b[38;5;241m2\u001b[39m:\n\u001b[0;32m-> 2617\u001b[0m     \u001b[38;5;28;01mraise\u001b[39;00m \u001b[38;5;167;01mValueError\u001b[39;00m(\u001b[38;5;124m\"\u001b[39m\u001b[38;5;124mm has more than 2 dimensions\u001b[39m\u001b[38;5;124m\"\u001b[39m)\n\u001b[1;32m   2619\u001b[0m \u001b[38;5;28;01mif\u001b[39;00m y \u001b[38;5;129;01mis\u001b[39;00m \u001b[38;5;129;01mnot\u001b[39;00m \u001b[38;5;28;01mNone\u001b[39;00m:\n\u001b[1;32m   2620\u001b[0m     y \u001b[38;5;241m=\u001b[39m np\u001b[38;5;241m.\u001b[39masarray(y)\n",
      "\u001b[0;31mValueError\u001b[0m: m has more than 2 dimensions"
     ]
    }
   ],
   "source": [
    "test_data_compr = encoder.predict(test_data_1D)\n",
    "background_data_compr = encoder.predict(background_data_1D)\n",
    "\n",
    "R = np.cov(test_data_compr)\n",
    "H = R \n",
    "B = np.cov(background_data_compr.T) # model_data_compr is the compressed data of size timesteps x latent_space"
   ]
  },
  {
   "cell_type": "code",
   "execution_count": null,
   "id": "4ea92f09",
   "metadata": {},
   "outputs": [],
   "source": [
    "start = time.time()\n",
    "\n",
    "K = KalmanGain(B, H, R) \n",
    "\n",
    "updated_data_list = []\n",
    "for i in range(len(model_data)):\n",
    "    updated_data = update_prediction(model_data_compr[i], K, H, sensors_data_compr[i]) #compute only the analysis\n",
    "    updated_data_list.append(updated_data)\n",
    "updated_data_array = np.array(updated_data_list)\n",
    "\n",
    "end = time.time() \n",
    "\n",
    "mse_before_DA = mse(sensors_data_compr, model_data_compr)\n",
    "mse_after_DA = mse(sensors_data_compr, updated_data_array)"
   ]
  }
 ],
 "metadata": {
  "kernelspec": {
   "display_name": "Python 3 (ipykernel)",
   "language": "python",
   "name": "python3"
  },
  "language_info": {
   "codemirror_mode": {
    "name": "ipython",
    "version": 3
   },
   "file_extension": ".py",
   "mimetype": "text/x-python",
   "name": "python",
   "nbconvert_exporter": "python",
   "pygments_lexer": "ipython3",
   "version": "3.9.13"
  }
 },
 "nbformat": 4,
 "nbformat_minor": 5
}
