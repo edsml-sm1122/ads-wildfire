{
  "cells": [
    {
      "cell_type": "markdown",
      "metadata": {
        "id": "-NjC_V_MhWkF"
      },
      "source": [
        "# RNNs and LSTMs (Solutions):\n",
        "\n",
        "\n"
      ]
    },
    {
      "cell_type": "markdown",
      "metadata": {
        "id": "gWEtzHPxiPL4"
      },
      "source": [
        "#### A few imports and functions before we get started"
      ]
    },
    {
      "cell_type": "code",
      "execution_count": null,
      "metadata": {
        "colab": {
          "base_uri": "https://localhost:8080/"
        },
        "id": "Y3trt71yj33T",
        "outputId": "d2fbac89-d8aa-4acf-8dcc-d6f46ed50bb9"
      },
      "outputs": [
        {
          "output_type": "stream",
          "name": "stdout",
          "text": [
            "Looking in indexes: https://pypi.org/simple, https://us-python.pkg.dev/colab-wheels/public/simple/\n",
            "Requirement already satisfied: pycm in /usr/local/lib/python3.10/dist-packages (3.9)\n",
            "Requirement already satisfied: livelossplot in /usr/local/lib/python3.10/dist-packages (0.5.5)\n",
            "Requirement already satisfied: art>=1.8 in /usr/local/lib/python3.10/dist-packages (from pycm) (5.9)\n",
            "Requirement already satisfied: numpy>=1.9.0 in /usr/local/lib/python3.10/dist-packages (from pycm) (1.22.4)\n",
            "Requirement already satisfied: matplotlib in /usr/local/lib/python3.10/dist-packages (from livelossplot) (3.7.1)\n",
            "Requirement already satisfied: bokeh in /usr/local/lib/python3.10/dist-packages (from livelossplot) (2.4.3)\n",
            "Requirement already satisfied: Jinja2>=2.9 in /usr/local/lib/python3.10/dist-packages (from bokeh->livelossplot) (3.1.2)\n",
            "Requirement already satisfied: packaging>=16.8 in /usr/local/lib/python3.10/dist-packages (from bokeh->livelossplot) (23.1)\n",
            "Requirement already satisfied: pillow>=7.1.0 in /usr/local/lib/python3.10/dist-packages (from bokeh->livelossplot) (8.4.0)\n",
            "Requirement already satisfied: PyYAML>=3.10 in /usr/local/lib/python3.10/dist-packages (from bokeh->livelossplot) (6.0)\n",
            "Requirement already satisfied: tornado>=5.1 in /usr/local/lib/python3.10/dist-packages (from bokeh->livelossplot) (6.3.1)\n",
            "Requirement already satisfied: typing-extensions>=3.10.0 in /usr/local/lib/python3.10/dist-packages (from bokeh->livelossplot) (4.5.0)\n",
            "Requirement already satisfied: contourpy>=1.0.1 in /usr/local/lib/python3.10/dist-packages (from matplotlib->livelossplot) (1.0.7)\n",
            "Requirement already satisfied: cycler>=0.10 in /usr/local/lib/python3.10/dist-packages (from matplotlib->livelossplot) (0.11.0)\n",
            "Requirement already satisfied: fonttools>=4.22.0 in /usr/local/lib/python3.10/dist-packages (from matplotlib->livelossplot) (4.39.3)\n",
            "Requirement already satisfied: kiwisolver>=1.0.1 in /usr/local/lib/python3.10/dist-packages (from matplotlib->livelossplot) (1.4.4)\n",
            "Requirement already satisfied: pyparsing>=2.3.1 in /usr/local/lib/python3.10/dist-packages (from matplotlib->livelossplot) (3.0.9)\n",
            "Requirement already satisfied: python-dateutil>=2.7 in /usr/local/lib/python3.10/dist-packages (from matplotlib->livelossplot) (2.8.2)\n",
            "Requirement already satisfied: MarkupSafe>=2.0 in /usr/local/lib/python3.10/dist-packages (from Jinja2>=2.9->bokeh->livelossplot) (2.1.2)\n",
            "Requirement already satisfied: six>=1.5 in /usr/local/lib/python3.10/dist-packages (from python-dateutil>=2.7->matplotlib->livelossplot) (1.16.0)\n",
            "Populating the interactive namespace from numpy and matplotlib\n"
          ]
        }
      ],
      "source": [
        "!pip install pycm livelossplot\n",
        "%pylab inline"
      ]
    },
    {
      "cell_type": "code",
      "execution_count": null,
      "metadata": {
        "colab": {
          "base_uri": "https://localhost:8080/"
        },
        "id": "IDJIvzXKhgLC",
        "outputId": "b2433259-bb81-4ab1-f906-ecd321c51e6d"
      },
      "outputs": [
        {
          "output_type": "stream",
          "name": "stdout",
          "text": [
            "Cuda installed! Running on GPU!\n",
            "NVIDIA A100-SXM4-40GB\n"
          ]
        }
      ],
      "source": [
        "import random\n",
        "# import time\n",
        "import math\n",
        "# from joblib import load\n",
        "# import glob\n",
        "# import string\n",
        "# import unicodedata\n",
        "# import re\n",
        "# from collections import Counter\n",
        "from tqdm import tqdm\n",
        "from sklearn.metrics import mean_squared_error as mse\n",
        "import numpy as np\n",
        "import torch\n",
        "import torch.nn as nn\n",
        "from torch.utils.data import TensorDataset, DataLoader\n",
        "from torch.autograd import Variable\n",
        "import matplotlib.pyplot as plt\n",
        "import matplotlib.ticker as ticker\n",
        "\n",
        "from livelossplot import PlotLosses\n",
        "\n",
        "import pandas as pd\n",
        "\n",
        "\n",
        "def set_seed(seed):\n",
        "    \"\"\"\n",
        "    Use this to set ALL the random seeds to a fixed value and take out any randomness from cuda kernels\n",
        "    \"\"\"\n",
        "    random.seed(seed)\n",
        "    np.random.seed(seed)\n",
        "    torch.manual_seed(seed)\n",
        "    torch.cuda.manual_seed_all(seed)\n",
        "\n",
        "    torch.backends.cudnn.benchmark = False  # uses the inbuilt cudnn auto-tuner to find the fastest convolution algorithms. -\n",
        "    torch.backends.cudnn.enabled   = False\n",
        "\n",
        "    return True\n",
        "\n",
        "device = 'cpu'\n",
        "if torch.cuda.device_count() > 0 and torch.cuda.is_available():\n",
        "    print(\"Cuda installed! Running on GPU!\")\n",
        "    print(torch.cuda.get_device_name())\n",
        "    device = 'cuda'\n",
        "else:\n",
        "    print(\"No GPU available! Running on CPU\")"
      ]
    },
    {
      "cell_type": "markdown",
      "metadata": {
        "id": "pFDN7Z9kyLKZ"
      },
      "source": [
        "#### Mounting the google drive for storage"
      ]
    },
    {
      "cell_type": "code",
      "execution_count": null,
      "metadata": {
        "colab": {
          "base_uri": "https://localhost:8080/"
        },
        "id": "SKPR7ozyyKWo",
        "outputId": "fd945ee6-3828-4af1-ac31-a5ca83209766"
      },
      "outputs": [
        {
          "output_type": "stream",
          "name": "stdout",
          "text": [
            "Drive already mounted at /content/gdrive/; to attempt to forcibly remount, call drive.mount(\"/content/gdrive/\", force_remount=True).\n"
          ]
        }
      ],
      "source": [
        "from google.colab import drive\n",
        "drive.mount('/content/gdrive/')"
      ]
    },
    {
      "cell_type": "markdown",
      "metadata": {
        "id": "OLNTSQvXB-S0"
      },
      "source": [
        "## Creating a custom TensorDataset that allows us to perform the following:\n",
        "- Take as inputs a list of all words in our text\n",
        "- Generate a dictionary of all unique words and their counts, sorted in descending order\n",
        "- Return a sample of input and output data"
      ]
    },
    {
      "cell_type": "code",
      "source": [
        "#load the model and obs\n",
        "train = np.load('/content/gdrive/MyDrive/BigData/assessment/Ferguson_fire_train.npy')\n",
        "print(f\"Before reshaping: {np.shape(train)}\")"
      ],
      "metadata": {
        "colab": {
          "base_uri": "https://localhost:8080/"
        },
        "id": "R0mUFMNW8lUX",
        "outputId": "6e154f57-66c1-4906-91eb-a29a86ae2c4f"
      },
      "execution_count": null,
      "outputs": [
        {
          "output_type": "stream",
          "name": "stdout",
          "text": [
            "Before reshaping: (12500, 256, 256)\n"
          ]
        }
      ]
    },
    {
      "cell_type": "code",
      "source": [
        "test = np.load('/content/gdrive/MyDrive/BigData/assessment/Ferguson_fire_test.npy')\n",
        "print(f\"Before reshaping: {np.shape(test)}\")\n"
      ],
      "metadata": {
        "colab": {
          "base_uri": "https://localhost:8080/"
        },
        "id": "BK6nHuqt8r7z",
        "outputId": "0e254827-37c8-4933-bb77-91e670bf5edd"
      },
      "execution_count": null,
      "outputs": [
        {
          "output_type": "stream",
          "name": "stdout",
          "text": [
            "Before reshaping: (5000, 256, 256)\n"
          ]
        }
      ]
    },
    {
      "cell_type": "code",
      "source": [
        "#as the fire is not consistent\n",
        "class MyDataset(TensorDataset):\n",
        "    def __init__(self, data,sequence_length=4):\n",
        "        self.data = data.astype('float64')\n",
        "        self.sequence_length = sequence_length\n",
        "\n",
        "    def __getitem__(self, idx):\n",
        "\n",
        "        sample_input = torch.tensor(self.data[idx:idx+self.sequence_length])       # get a sample input sequence\n",
        "        sample_output = torch.tensor(self.data[idx+1:idx+self.sequence_length+1])  # get a sample output sequence\n",
        "\n",
        "        # return sample_input.type('torch.DoubleTensor'), sample_output.type('torch.DoubleTensor')\n",
        "        return sample_input[:,None,:], sample_output[:,None,:]\n",
        "    \n",
        "    def __len__(self):\n",
        "        return len(self.data) - self.sequence_length"
      ],
      "metadata": {
        "id": "WjcqrbX29svq"
      },
      "execution_count": null,
      "outputs": []
    },
    {
      "cell_type": "code",
      "source": [
        "import torch.nn as nn\n",
        "import torch\n",
        "\n",
        "\n",
        "class ConvLSTMCell(nn.Module):\n",
        "\n",
        "    def __init__(self, input_dim, hidden_dim, kernel_size, bias):\n",
        "        \"\"\"\n",
        "        Initialize ConvLSTM cell.\n",
        "\n",
        "        Parameters\n",
        "        ----------\n",
        "        input_dim: int\n",
        "            Number of channels of input tensor.\n",
        "        hidden_dim: int\n",
        "            Number of channels of hidden state.\n",
        "        kernel_size: (int, int)\n",
        "            Size of the convolutional kernel.\n",
        "        bias: bool\n",
        "            Whether or not to add the bias.\n",
        "        \"\"\"\n",
        "\n",
        "        super(ConvLSTMCell, self).__init__()\n",
        "\n",
        "        self.input_dim = input_dim\n",
        "        self.hidden_dim = hidden_dim\n",
        "\n",
        "        self.kernel_size = kernel_size\n",
        "        self.padding = kernel_size[0] // 2, kernel_size[1] // 2\n",
        "        self.bias = bias\n",
        "\n",
        "        self.conv = nn.Conv2d(in_channels=self.input_dim + self.hidden_dim,\n",
        "                              out_channels=4 * self.hidden_dim,\n",
        "                              kernel_size=self.kernel_size,\n",
        "                              padding=self.padding,\n",
        "                              bias=self.bias)\n",
        "\n",
        "    def forward(self, input_tensor, cur_state):\n",
        "        h_cur, c_cur = cur_state\n",
        "\n",
        "        combined = torch.cat([input_tensor, h_cur], dim=1)  # concatenate along channel axis\n",
        "\n",
        "        combined_conv = self.conv(combined)\n",
        "        cc_i, cc_f, cc_o, cc_g = torch.split(combined_conv, self.hidden_dim, dim=1)\n",
        "        i = torch.sigmoid(cc_i)\n",
        "        f = torch.sigmoid(cc_f)\n",
        "        o = torch.sigmoid(cc_o)\n",
        "        g = torch.tanh(cc_g)\n",
        "\n",
        "        c_next = f * c_cur + i * g\n",
        "        h_next = o * torch.tanh(c_next)\n",
        "\n",
        "        return h_next, c_next\n",
        "\n",
        "    def init_hidden(self, batch_size, image_size):\n",
        "        height, width = image_size\n",
        "        return (torch.zeros(batch_size, self.hidden_dim, height, width, device=self.conv.weight.device),\n",
        "                torch.zeros(batch_size, self.hidden_dim, height, width, device=self.conv.weight.device))\n",
        "\n",
        "\n",
        "class ConvLSTM(nn.Module):\n",
        "\n",
        "    \"\"\"\n",
        "\n",
        "    Parameters:\n",
        "        input_dim: Number of channels in input\n",
        "        hidden_dim: Number of hidden channels\n",
        "        kernel_size: Size of kernel in convolutions\n",
        "        num_layers: Number of LSTM layers stacked on each other\n",
        "        batch_first: Whether or not dimension 0 is the batch or not\n",
        "        bias: Bias or no bias in Convolution\n",
        "        return_all_layers: Return the list of computations for all layers\n",
        "        Note: Will do same padding.\n",
        "\n",
        "    Input:\n",
        "        A tensor of size B, T, C, H, W or T, B, C, H, W\n",
        "    Output:\n",
        "        A tuple of two lists of length num_layers (or length 1 if return_all_layers is False).\n",
        "            0 - layer_output_list is the list of lists of length T of each output\n",
        "            1 - last_state_list is the list of last states\n",
        "                    each element of the list is a tuple (h, c) for hidden state and memory\n",
        "    Example:\n",
        "        >> x = torch.rand((32, 10, 64, 128, 128))\n",
        "        >> convlstm = ConvLSTM(64, 16, 3, 1, True, True, False)\n",
        "        >> _, last_states = convlstm(x)\n",
        "        >> h = last_states[0][0]  # 0 for layer index, 0 for h index\n",
        "    \"\"\"\n",
        "\n",
        "    def __init__(self, input_dim, hidden_dim, kernel_size, num_layers,\n",
        "                 batch_first=False, bias=True, return_all_layers=False):\n",
        "        super(ConvLSTM, self).__init__()\n",
        "\n",
        "        self._check_kernel_size_consistency(kernel_size)\n",
        "\n",
        "        # Make sure that both `kernel_size` and `hidden_dim` are lists having len == num_layers\n",
        "        kernel_size = self._extend_for_multilayer(kernel_size, num_layers)\n",
        "        hidden_dim = self._extend_for_multilayer(hidden_dim, num_layers)\n",
        "        if not len(kernel_size) == len(hidden_dim) == num_layers:\n",
        "            raise ValueError('Inconsistent list length.')\n",
        "\n",
        "        self.input_dim = input_dim\n",
        "        self.hidden_dim = hidden_dim\n",
        "        self.kernel_size = kernel_size\n",
        "        self.num_layers = num_layers\n",
        "        self.batch_first = batch_first\n",
        "        self.bias = bias\n",
        "        self.return_all_layers = return_all_layers\n",
        "        self.h2x = nn.Conv2d(self.hidden_dim[0],1,1)\n",
        "\n",
        "        cell_list = []\n",
        "        for i in range(0, self.num_layers):\n",
        "            cur_input_dim = self.input_dim if i == 0 else self.hidden_dim[i - 1]\n",
        "\n",
        "            cell_list.append(ConvLSTMCell(input_dim=cur_input_dim,\n",
        "                                          hidden_dim=self.hidden_dim[i],\n",
        "                                          kernel_size=self.kernel_size[i],\n",
        "                                          bias=self.bias))\n",
        "\n",
        "        self.cell_list = nn.ModuleList(cell_list)\n",
        "\n",
        "    def forward(self, input_tensor, hidden_state=None):\n",
        "        \"\"\"\n",
        "\n",
        "        Parameters\n",
        "        ----------\n",
        "        input_tensor: todo\n",
        "            5-D Tensor either of shape (t, b, c, h, w) or (b, t, c, h, w)\n",
        "        hidden_state: todo\n",
        "            None. todo implement stateful\n",
        "\n",
        "        Returns\n",
        "        -------\n",
        "        last_state_list, layer_output\n",
        "        \"\"\"\n",
        "        if not self.batch_first:\n",
        "            # (t, b, c, h, w) -> (b, t, c, h, w)\n",
        "            input_tensor = input_tensor.permute(1, 0, 2, 3, 4)\n",
        "\n",
        "        b, _, _, h, w = input_tensor.size()\n",
        "\n",
        "        # Implement stateful ConvLSTM\n",
        "        if hidden_state is not None:\n",
        "            raise NotImplementedError()\n",
        "        else:\n",
        "            # Since the init is done in forward. Can send image size here\n",
        "            hidden_state = self._init_hidden(batch_size=b,\n",
        "                                             image_size=(h, w))\n",
        "\n",
        "        layer_output_list = []\n",
        "        last_state_list = []\n",
        "\n",
        "        seq_len = input_tensor.size(1)\n",
        "        cur_layer_input = input_tensor\n",
        "\n",
        "        for layer_idx in range(self.num_layers):\n",
        "\n",
        "            h, c = hidden_state[layer_idx]\n",
        "            output_inner = []\n",
        "            for t in range(seq_len):\n",
        "                h, c = self.cell_list[layer_idx](input_tensor=cur_layer_input[:, t, :, :, :],\n",
        "                                                 cur_state=[h, c])\n",
        "                output_inner.append(h)\n",
        "\n",
        "            layer_output = torch.stack(output_inner, dim=1)\n",
        "            cur_layer_input = layer_output\n",
        "\n",
        "            layer_output_list.append(layer_output)\n",
        "            last_state_list.append([h, c])\n",
        "\n",
        "        # if not self.return_all_layers:\n",
        "        #     layer_output_list = layer_output_list[-1:]\n",
        "        #     last_state_list = last_state_list[-1:]\n",
        "        print(self.hidden_dim[0])\n",
        "        h = nn.BatchNorm2d(self.hidden_dim[0])(h)\n",
        "        res = self.h2x(h)\n",
        "        \n",
        "\n",
        "        return res\n",
        "\n",
        "    def _init_hidden(self, batch_size, image_size):\n",
        "        init_states = []\n",
        "        for i in range(self.num_layers):\n",
        "            init_states.append(self.cell_list[i].init_hidden(batch_size, image_size))\n",
        "        return init_states\n",
        "\n",
        "    @staticmethod\n",
        "    def _check_kernel_size_consistency(kernel_size):\n",
        "        if not (isinstance(kernel_size, tuple) or\n",
        "                (isinstance(kernel_size, list) and all([isinstance(elem, tuple) for elem in kernel_size]))):\n",
        "            raise ValueError('`kernel_size` must be tuple or list of tuples')\n",
        "\n",
        "    @staticmethod\n",
        "    def _extend_for_multilayer(param, num_layers):\n",
        "        if not isinstance(param, list):\n",
        "            param = [param] * num_layers\n",
        "        return param"
      ],
      "metadata": {
        "id": "9Som46hXqP4O"
      },
      "execution_count": null,
      "outputs": []
    },
    {
      "cell_type": "code",
      "source": [],
      "metadata": {
        "id": "SBaXwQmMqUKn"
      },
      "execution_count": null,
      "outputs": []
    },
    {
      "cell_type": "code",
      "execution_count": null,
      "metadata": {
        "id": "rsc5DqUO0LiB",
        "colab": {
          "base_uri": "https://localhost:8080/"
        },
        "outputId": "ec5150af-31c4-47e8-c770-e1d4d45b6247"
      },
      "outputs": [
        {
          "output_type": "stream",
          "name": "stdout",
          "text": [
            "2\n",
            "torch.Size([5, 4, 1, 256, 256])\n"
          ]
        }
      ],
      "source": [
        "words_dataset = MyDataset(train, sequence_length=4)\n",
        "words_dataloader = DataLoader(words_dataset, batch_size=5, shuffle=False)\n",
        "\n",
        "print(len(next(iter(words_dataloader))))\n",
        "print(next(iter(words_dataloader))[0].shape)"
      ]
    },
    {
      "cell_type": "code",
      "source": [
        "test_dataset = MyDataset(test, sequence_length=4)\n",
        "test_dataloader = DataLoader(test_dataset, batch_size=1, shuffle=False)"
      ],
      "metadata": {
        "id": "CYeLhk4WHR18"
      },
      "execution_count": null,
      "outputs": []
    },
    {
      "cell_type": "code",
      "source": [
        "print(len(next(iter(test_dataloader))))\n",
        "print(next(iter(test_dataloader))[0].shape)"
      ],
      "metadata": {
        "colab": {
          "base_uri": "https://localhost:8080/"
        },
        "id": "47BUDJrYhv8D",
        "outputId": "d98b5111-6967-453c-8087-7e2cfdfe3564"
      },
      "execution_count": null,
      "outputs": [
        {
          "output_type": "stream",
          "name": "stdout",
          "text": [
            "2\n",
            "torch.Size([1, 4, 1, 256, 256])\n"
          ]
        }
      ]
    },
    {
      "cell_type": "code",
      "execution_count": null,
      "metadata": {
        "id": "v8u0Ij-GlpNt"
      },
      "outputs": [],
      "source": [
        "# class LSTMCell(nn.Module):\n",
        "\n",
        "#     def __init__(self, input_size, hidden_size, bias=True):\n",
        "#         super(LSTMCell, self).__init__()\n",
        "\n",
        "#         self.input_size = input_size\n",
        "#         self.hidden_size = hidden_size\n",
        "#         self.bias = bias\n",
        "\n",
        "#         # we will streamline the implementation of the LSTM by combining the\n",
        "#         # weights for all 4 operations (input gate, forget gate, output gate, candidate update)\n",
        "#         self.i2h = nn.Linear(input_size, hidden_size * 4, bias=bias)       # create a linear layer to map from input to hidden space, *4 as he chunks to 4 gate in line 26\n",
        "#         self.h2h = nn.Linear(hidden_size, hidden_size * 4, bias=bias)      # create a linear layer to map from previous to current hidden space\n",
        "\n",
        "#         self.reset_parameters()                                            # initialise the parameters\n",
        "\n",
        "#     def reset_parameters(self):\n",
        "#         std = 1.0 / np.sqrt(self.hidden_size)\n",
        "\n",
        "#         for w in self.parameters():\n",
        "#             w.data.uniform_(-std, std)\n",
        "\n",
        "#     def forward(self, input, h, c):\n",
        "#         # print(h)\n",
        "#         # print(input)\n",
        "#         # print(c)\n",
        "#         # print(type(input),type(h))\n",
        "\n",
        "\n",
        "#         gates = self.i2h(input) + self.h2h(h)                              # apply the weights to both input and previous state\n",
        "\n",
        "#         input_gate, forget_gate, candidate_update, output_gate = gates.chunk(4, 1)  # separate the output into each of the LSTM operations\n",
        "\n",
        "#         # apply the corresponding activations\n",
        "#         i_t = torch.sigmoid(input_gate)                                    \n",
        "#         f_t = torch.sigmoid(forget_gate)\n",
        "#         c_t = torch.tanh(candidate_update)\n",
        "#         o_t = torch.sigmoid(output_gate)\n",
        "\n",
        "#         c = f_t * c + i_t * c_t                                             # calculate the next cell state\n",
        "\n",
        "#         h = o_t * torch.tanh(c)                                             # calculate the next hidden state\n",
        "\n",
        "#         return h, c\n"
      ]
    },
    {
      "cell_type": "markdown",
      "source": [
        "To construct a fully functional LSTM network, we create a similar `nn.Module` to the one used for the RNN, which will concatenate one or more LSTM cells and apply them to a given input sequence."
      ],
      "metadata": {
        "id": "F-GzMmaWqMwh"
      }
    },
    {
      "cell_type": "code",
      "source": [
        "# class LSTM(nn.Module):\n",
        "\n",
        "#     def __init__(self, input_size, hidden_size, num_layers, output_size, bias=False):\n",
        "#         super(LSTM, self).__init__()\n",
        "\n",
        "#         self.input_size = input_size\n",
        "#         self.hidden_size = hidden_size\n",
        "#         self.num_layers = num_layers\n",
        "#         self.bias = bias\n",
        "#         self.output_size = output_size\n",
        "\n",
        "#         self.rnn_cell_list = nn.ModuleList()                         # create a list of modules\n",
        "\n",
        "#         # create each layer in the network\n",
        "#         # take care when defining the input size of the first vs later layers\n",
        "#         for l in range(self.num_layers):\n",
        "#             self.rnn_cell_list.append(LSTMCell(self.input_size if l == 0 else self.hidden_size,\n",
        "#                                                self.hidden_size,\n",
        "#                                                self.bias))\n",
        "\n",
        "#         self.h2o = nn.Linear(self.hidden_size, self.output_size)     # create a final linear layer from hidden state to network output\n",
        "\n",
        "#     def init_hidden(self,  batch_size=1):\n",
        "#         # initialise the hidden state and cell state\n",
        "#         return (torch.zeros(self.num_layers, batch_size, self.hidden_size, requires_grad=False,dtype=torch.double).to(device),\n",
        "#                 torch.zeros(self.num_layers, batch_size, self.hidden_size, requires_grad=False,dtype=torch.double).to(device))\n",
        "\n",
        "#     def forward(self, input, h0, c0):\n",
        "#         # Input of shape (batch_size, seqence length , input_size)\n",
        "#         # Output of shape (batch_size, output_size)\n",
        "\n",
        "#         outs = []\n",
        "\n",
        "#         hidden = []\n",
        "#         cell = []\n",
        "#         for layer in range(self.num_layers):\n",
        "#             hidden.append(h0[layer, :, :])\n",
        "#             cell.append(c0[layer, :, :])\n",
        "\n",
        "#         # iterate over all elements in the sequence\n",
        "#         for t in range(input.size(1)):\n",
        "#             # iterate over each layer\n",
        "#             for layer in range(self.num_layers):\n",
        "#                 # apply each layer\n",
        "#                 # take care to apply the layer to the input or the\n",
        "#                 # previous hidden state depending on the layer number\n",
        "#                 if layer == 0:\n",
        "#                     hidden_l, cell_l = self.rnn_cell_list[layer](input[:, t, :], hidden[layer], cell[layer])\n",
        "#                 else:\n",
        "#                     hidden_l, cell_l = self.rnn_cell_list[layer](hidden[layer-1], hidden[layer], cell[layer])\n",
        "\n",
        "#                 # store the hidden and cell state of each layer\n",
        "#                 hidden[layer] = hidden_l\n",
        "#                 cell[layer] = cell_l   # useless\n",
        "\n",
        "#             # the hidden state of the last layer needs to be recorded\n",
        "#             # to be used in the output\n",
        "#             outs.append(hidden_l)\n",
        "\n",
        "#         # calculate output for each element in the sequence\n",
        "#         out = torch.stack([self.h2o(out) for out in outs], dim=1)#  !!!!!\n",
        "\n",
        "#         return out"
      ],
      "metadata": {
        "id": "9RK24y4Sk2U2"
      },
      "execution_count": null,
      "outputs": []
    },
    {
      "cell_type": "markdown",
      "source": [
        "We can now substitute the RNN for an LSTM in our test-generation network:"
      ],
      "metadata": {
        "id": "SxMbZCXWqd-B"
      }
    },
    {
      "cell_type": "code",
      "source": [
        "# class LSTM_GEN(nn.Module):\n",
        "#     def __init__(self, input_size, hidden_size, num_layers):\n",
        "#         super(LSTM_GEN, self).__init__()\n",
        "\n",
        "#         # define your layers and activations\n",
        "#         self.input_size = input_size\n",
        "#         # self.embedding_dim = embedding_dim\n",
        "#         self.hidden_size = hidden_size\n",
        "#         self.num_layers = num_layers\n",
        "#         # self.num_unique_words = num_unique_words\n",
        "#         self.batch_size = batch_size\n",
        "        \n",
        "#         # self.embedding = nn.Embedding(self.num_unique_words, self.embedding_dim)                    # add a nn.Embedding\n",
        "#         self.lstm = LSTM(self.input_size, self.hidden_size, self.num_layers, self.input_size) # add out LSTM\n",
        "\n",
        "#     def forward(self, x):\n",
        "#         batch_size = x.size(0)\n",
        "#         # x.to(torch.double)\n",
        "#         # print(x.shape)\n",
        "#         # print(x[0][0][0])\n",
        "#         state_h, state_c = self.lstm.init_hidden(batch_size)    # initialise hidden state\n",
        "#         state_h.to(torch.double)\n",
        "\n",
        "#         # print(state_h[0][0][0])\n",
        "#         # embedded = self.embedding(x)                            # store the word embeddings\n",
        "#         output = self.lstm(x, state_h, state_c)          # apply the LSTM\n",
        "\n",
        "#         return output\n",
        "\n",
        "\n",
        "def count_trainable_parameters(model):\n",
        "    return sum([p.numel() for p in model.parameters() if p.requires_grad])"
      ],
      "metadata": {
        "id": "PgZABnoEfMIs"
      },
      "execution_count": null,
      "outputs": []
    },
    {
      "cell_type": "markdown",
      "metadata": {
        "id": "DbPUFwfvJhQ3"
      },
      "source": [
        "### The train and predict functions"
      ]
    },
    {
      "cell_type": "code",
      "source": [
        "test_dataset[0][0].shape"
      ],
      "metadata": {
        "colab": {
          "base_uri": "https://localhost:8080/"
        },
        "id": "z8I8bhi5m9eQ",
        "outputId": "f3c605b4-4bb8-4d69-b1e4-be0e67a5e847"
      },
      "execution_count": null,
      "outputs": [
        {
          "output_type": "execute_result",
          "data": {
            "text/plain": [
              "torch.Size([4, 418])"
            ]
          },
          "metadata": {},
          "execution_count": 17
        }
      ]
    },
    {
      "cell_type": "code",
      "execution_count": null,
      "metadata": {
        "id": "PnVba569zWRC"
      },
      "outputs": [],
      "source": [
        "def train_lstm_gen(model, optimizer, criterion, dataloader):\n",
        "    model.train()                       # set model to train mode\n",
        "    train_loss, train_accuracy = 0, 0   # initialise the loss \n",
        "    \n",
        "    for i, (x, y) in enumerate(dataloader):  # loop over dataset\n",
        "        \n",
        "        # print(x.shape)\n",
        "        x, y = x.to(device), y.to(device)    # send data to device\n",
        "        optimizer.zero_grad()                # reset the gradients\n",
        "        model.double()\n",
        "        # print(x.shape)\n",
        "        # model.to(device)\n",
        "        _, y_pred = model(x)                    # get output and hidden state\n",
        "        # print(y_pred[0][0].shape)\n",
        "        # print(y.shape)\n",
        "        # print(y.shape)\n",
        "        # print(y_pred.shape)\n",
        "        loss = criterion(y_pred, y)  # compute the loss (change shape as crossentropy takes input as batch_size, number of classes, d1, d2, ...)\n",
        "        train_loss += loss\n",
        "        \n",
        "        loss.backward()                      # backpropagate\n",
        "        optimizer.step()                     # update weights \n",
        "\n",
        "    return train_loss/len(dataloader)\n",
        "\n",
        "\n",
        "def predict_lstm_gen(dataset, model, next_words=10):\n",
        "    model.eval()  # set model to evaluation mode\n",
        "\n",
        "    res = []\n",
        "\n",
        "    for i in range(next_words):  # loop over words\n",
        "        x = dataset[i][0].to(device)  # take word from dataset and send to device\n",
        "        # x = pca.inverse_transform(x)\n",
        "        x = x[None,:]\n",
        "        # print(x.shape)\n",
        "        y_pred = model(x)  \n",
        "        print(y_pred.shape)                                                               # compute output and hidden state\n",
        "        # print(y_pred.shape)\n",
        "        last_word_logits = y_pred[0][-1]                                                  # take last output\n",
        "                  \n",
        "        # p = torch.nn.functional.softmax(last_word_logits, dim=0).detach().cpu().numpy()   # obtain probability vector for last output\n",
        "        # word_idx = np.random.choice(len(last_word_logits), p=p)                           # sample probability vector to get index in dataset    \n",
        "\n",
        "        res.append(last_word_logits.cpu().detach().numpy())                                      # get word corresponding to dataset\n",
        "\n",
        "    return np.array(res)"
      ]
    },
    {
      "cell_type": "markdown",
      "metadata": {
        "id": "-EPn9jStJlrZ"
      },
      "source": [
        "### Hyperparameters, model initialisation and training loop"
      ]
    },
    {
      "cell_type": "code",
      "source": [],
      "metadata": {
        "id": "ddNxnSlMZIkB"
      },
      "execution_count": null,
      "outputs": []
    },
    {
      "cell_type": "code",
      "source": [
        "import torch.nn as nn\n",
        "import torch\n",
        "\n",
        "\n",
        "class ConvLSTMCell(nn.Module):\n",
        "\n",
        "    def __init__(self, input_dim, hidden_dim, kernel_size, bias):\n",
        "        \"\"\"\n",
        "        Initialize ConvLSTM cell.\n",
        "\n",
        "        Parameters\n",
        "        ----------\n",
        "        input_dim: int\n",
        "            Number of channels of input tensor.\n",
        "        hidden_dim: int\n",
        "            Number of channels of hidden state.\n",
        "        kernel_size: (int, int)\n",
        "            Size of the convolutional kernel.\n",
        "        bias: bool\n",
        "            Whether or not to add the bias.\n",
        "        \"\"\"\n",
        "\n",
        "        super(ConvLSTMCell, self).__init__()\n",
        "\n",
        "        self.input_dim = input_dim\n",
        "        self.hidden_dim = hidden_dim\n",
        "\n",
        "        self.kernel_size = kernel_size\n",
        "        self.padding = kernel_size[0] // 2, kernel_size[1] // 2\n",
        "        self.bias = bias\n",
        "\n",
        "        self.conv = nn.Conv2d(in_channels=self.input_dim + self.hidden_dim,\n",
        "                              out_channels=4 * self.hidden_dim,\n",
        "                              kernel_size=self.kernel_size,\n",
        "                              padding=self.padding,\n",
        "                              bias=self.bias)\n",
        "\n",
        "    def forward(self, input_tensor, cur_state):\n",
        "        h_cur, c_cur = cur_state\n",
        "\n",
        "        combined = torch.cat([input_tensor, h_cur], dim=1)  # concatenate along channel axis\n",
        "\n",
        "        combined_conv = self.conv(combined)\n",
        "        cc_i, cc_f, cc_o, cc_g = torch.split(combined_conv, self.hidden_dim, dim=1)\n",
        "        i = torch.sigmoid(cc_i)\n",
        "        f = torch.sigmoid(cc_f)\n",
        "        o = torch.sigmoid(cc_o)\n",
        "        g = torch.tanh(cc_g)\n",
        "\n",
        "        c_next = f * c_cur + i * g\n",
        "        h_next = o * torch.tanh(c_next)\n",
        "\n",
        "        return h_next, c_next\n",
        "\n",
        "    def init_hidden(self, batch_size, image_size):\n",
        "        height, width = image_size\n",
        "        return (torch.zeros(batch_size, self.hidden_dim, height, width, device=self.conv.weight.device),\n",
        "                torch.zeros(batch_size, self.hidden_dim, height, width, device=self.conv.weight.device))\n",
        "\n",
        "\n",
        "class ConvLSTM(nn.Module):\n",
        "\n",
        "    \"\"\"\n",
        "\n",
        "    Parameters:\n",
        "        input_dim: Number of channels in input\n",
        "        hidden_dim: Number of hidden channels\n",
        "        kernel_size: Size of kernel in convolutions\n",
        "        num_layers: Number of LSTM layers stacked on each other\n",
        "        batch_first: Whether or not dimension 0 is the batch or not\n",
        "        bias: Bias or no bias in Convolution\n",
        "        return_all_layers: Return the list of computations for all layers\n",
        "        Note: Will do same padding.\n",
        "\n",
        "    Input:\n",
        "        A tensor of size B, T, C, H, W or T, B, C, H, W\n",
        "    Output:\n",
        "        A tuple of two lists of length num_layers (or length 1 if return_all_layers is False).\n",
        "            0 - layer_output_list is the list of lists of length T of each output\n",
        "            1 - last_state_list is the list of last states\n",
        "                    each element of the list is a tuple (h, c) for hidden state and memory\n",
        "    Example:\n",
        "        >> x = torch.rand((32, 10, 64, 128, 128))\n",
        "        >> convlstm = ConvLSTM(64, 16, 3, 1, True, True, False)\n",
        "        >> _, last_states = convlstm(x)\n",
        "        >> h = last_states[0][0]  # 0 for layer index, 0 for h index\n",
        "    \"\"\"\n",
        "\n",
        "    def __init__(self, input_dim, hidden_dim, kernel_size, num_layers,\n",
        "                 batch_first=False, bias=True, return_all_layers=False):\n",
        "        super(ConvLSTM, self).__init__()\n",
        "\n",
        "        self._check_kernel_size_consistency(kernel_size)\n",
        "\n",
        "        # Make sure that both `kernel_size` and `hidden_dim` are lists having len == num_layers\n",
        "        kernel_size = self._extend_for_multilayer(kernel_size, num_layers)\n",
        "        hidden_dim = self._extend_for_multilayer(hidden_dim, num_layers)\n",
        "        if not len(kernel_size) == len(hidden_dim) == num_layers:\n",
        "            raise ValueError('Inconsistent list length.')\n",
        "\n",
        "        self.input_dim = input_dim\n",
        "        self.hidden_dim = hidden_dim\n",
        "        self.kernel_size = kernel_size\n",
        "        self.num_layers = num_layers\n",
        "        self.batch_first = batch_first\n",
        "        self.bias = bias\n",
        "        self.return_all_layers = return_all_layers\n",
        "        self.h2x = nn.Conv2d(16,1,1)\n",
        "        self.bn = nn.BatchNorm2d(16)\n",
        "\n",
        "        cell_list = []\n",
        "        for i in range(0, self.num_layers):\n",
        "            cur_input_dim = self.input_dim if i == 0 else self.hidden_dim[i - 1]\n",
        "\n",
        "            cell_list.append(ConvLSTMCell(input_dim=cur_input_dim,\n",
        "                                          hidden_dim=self.hidden_dim[i],\n",
        "                                          kernel_size=self.kernel_size[i],\n",
        "                                          bias=self.bias))\n",
        "\n",
        "        self.cell_list = nn.ModuleList(cell_list)\n",
        "\n",
        "    def forward(self, input_tensor, hidden_state=None):\n",
        "        \"\"\"\n",
        "\n",
        "        Parameters\n",
        "        ----------\n",
        "        input_tensor: todo\n",
        "            5-D Tensor either of shape (t, b, c, h, w) or (b, t, c, h, w)\n",
        "        hidden_state: todo\n",
        "            None. todo implement stateful\n",
        "\n",
        "        Returns\n",
        "        -------\n",
        "        last_state_list, layer_output\n",
        "        \"\"\"\n",
        "        if not self.batch_first:\n",
        "            # (t, b, c, h, w) -> (b, t, c, h, w)\n",
        "            input_tensor = input_tensor.permute(1, 0, 2, 3, 4)\n",
        "\n",
        "        b, _, _, h, w = input_tensor.size()\n",
        "\n",
        "        # Implement stateful ConvLSTM\n",
        "        if hidden_state is not None:\n",
        "            raise NotImplementedError()\n",
        "        else:\n",
        "            # Since the init is done in forward. Can send image size here\n",
        "            hidden_state = self._init_hidden(batch_size=b,\n",
        "                                             image_size=(h, w))\n",
        "\n",
        "        layer_output_list = []\n",
        "        last_state_list = []\n",
        "\n",
        "        seq_len = input_tensor.size(1)\n",
        "        cur_layer_input = input_tensor\n",
        "\n",
        "        for layer_idx in range(self.num_layers):\n",
        "\n",
        "            h, c = hidden_state[layer_idx]\n",
        "            output_inner = []\n",
        "            for t in range(seq_len):\n",
        "                h, c = self.cell_list[layer_idx](input_tensor=cur_layer_input[:, t, :, :, :],\n",
        "                                                 cur_state=[h, c])\n",
        "                output_inner.append(h)\n",
        "\n",
        "            layer_output = torch.stack(output_inner, dim=1)\n",
        "            cur_layer_input = layer_output\n",
        "\n",
        "            layer_output_list.append(layer_output)\n",
        "            last_state_list.append([h, c])\n",
        "\n",
        "        # if not self.return_all_layers:\n",
        "        #     layer_output_list = layer_output_list[-1:]\n",
        "        #     last_state_list = last_state_list[-1:]\n",
        "        # print(h.device,self.hidden_dim.device)\n",
        "        # h = nn.BatchNorm2d(self.hidden_dim[0])(h)\n",
        "        h_las = last_state_list[-1][0]\n",
        "        h_las = self.bn(h_las) \n",
        "        res = self.h2x(h_las )\n",
        "        \n",
        "\n",
        "        return h_las, res\n",
        "\n",
        "    def _init_hidden(self, batch_size, image_size):\n",
        "        init_states = []\n",
        "        for i in range(self.num_layers):\n",
        "            init_states.append(self.cell_list[i].init_hidden(batch_size, image_size))\n",
        "        return init_states\n",
        "\n",
        "    @staticmethod\n",
        "    def _check_kernel_size_consistency(kernel_size):\n",
        "        if not (isinstance(kernel_size, tuple) or\n",
        "                (isinstance(kernel_size, list) and all([isinstance(elem, tuple) for elem in kernel_size]))):\n",
        "            raise ValueError('`kernel_size` must be tuple or list of tuples')\n",
        "\n",
        "    @staticmethod\n",
        "    def _extend_for_multilayer(param, num_layers):\n",
        "        if not isinstance(param, list):\n",
        "            param = [param] * num_layers\n",
        "        return param"
      ],
      "metadata": {
        "id": "cFiGSz_-ZLWP"
      },
      "execution_count": null,
      "outputs": []
    },
    {
      "cell_type": "code",
      "source": [
        "# from numba import cuda \n",
        "# device = cuda.get_current_device()\n",
        "# device.reset()"
      ],
      "metadata": {
        "id": "awZtuEBOZv-o"
      },
      "execution_count": null,
      "outputs": []
    },
    {
      "cell_type": "code",
      "execution_count": null,
      "metadata": {
        "colab": {
          "base_uri": "https://localhost:8080/",
          "height": 862
        },
        "id": "W4UJOe76zZaw",
        "outputId": "387288d5-c733-49df-9246-1e8542749e66"
      },
      "outputs": [
        {
          "output_type": "display_data",
          "data": {
            "text/plain": [
              "<Figure size 1200x800 with 2 Axes>"
            ],
            "image/png": "[encoded data removed]"
          },
          "metadata": {}
        },
        {
          "output_type": "stream",
          "name": "stderr",
          "text": [
            "100%|██████████| 20/20 [08:00<00:00, 24.03s/it]"
          ]
        },
        {
          "output_type": "stream",
          "name": "stdout",
          "text": [
            "log loss\n",
            "\tlog loss         \t (min:    0.029, max:    0.032, cur:    0.029)\n"
          ]
        },
        {
          "output_type": "stream",
          "name": "stderr",
          "text": [
            "\n"
          ]
        }
      ],
      "source": [
        "device = device = torch.device(\"cuda\" if torch.cuda.is_available() else \"cpu\") \n",
        "\n",
        "# input_size = 418\n",
        "# n_hidden = 128                         \n",
        "n_layers = 1\n",
        "# embedding_dim = input_size\n",
        "# n_unique_words = len(words_dataset.unique_words)\n",
        "batch_size = 128\n",
        "sequence_length = 1\n",
        "channels = 1\n",
        "\n",
        "lr = 5e-3\n",
        "momentum = 0.5\n",
        "n_epochs = 20\n",
        "\n",
        "model = ConvLSTM(input_dim=channels,  #here, the inputdim  should be sequence length\n",
        "                 hidden_dim=16,\n",
        "                 kernel_size=(3, 3),\n",
        "                 num_layers=1,\n",
        "                 batch_first=True,\n",
        "                 bias=True,\n",
        "                 return_all_layers=False).to(device)\n",
        "\n",
        "print(f'The model has {count_trainable_parameters(model):,} trainable parameters')\n",
        "\n",
        "criterion = nn.MSELoss()\n",
        "optimizer = torch.optim.Adam(model.parameters(), lr=lr)\n",
        "\n",
        "# train_1D_ = train_1D.astype('double')\n",
        "words_dataset = MyDataset(train, sequence_length=sequence_length)\n",
        "words_dataloader = DataLoader(words_dataset, batch_size=batch_size, shuffle=False)  \n",
        "\n",
        "# Keep track of losses for plotting\n",
        "liveloss = PlotLosses()\n",
        "for epoch in tqdm(range(n_epochs)):\n",
        "    logs = {}\n",
        "    print(criterion)\n",
        "    train_loss = train_lstm_gen(model, optimizer, criterion, words_dataloader)\n",
        "    # res = predict_lstm_gen(test_dataset, lstm_gen, next_words=len(test_dataset))\n",
        "    # mserror = mse(res,pca_test[4:])\n",
        "\n",
        "    print(epoch,train_loss)\n",
        "\n",
        "    logs['' + 'log loss'] = train_loss.item()\n",
        "    # logs['val_' + 'log loss'] = mserror \n",
        "    liveloss.update(logs)\n",
        "    liveloss.draw()\n",
        "\n",
        "    # if (epoch > 5) and ( (epoch+1) % 5) == 0:\n",
        "    #   torch.save(lstm_gen.state_dict(), f'/content/gdrive/MyDrive/BigData/assessment/modelpca_{epoch+1}_3_5')"
      ]
    },
    {
      "cell_type": "code",
      "source": [
        "test.shape"
      ],
      "metadata": {
        "colab": {
          "base_uri": "https://localhost:8080/"
        },
        "id": "n64PiZHDfu6R",
        "outputId": "09d886c3-d9f0-45c7-cf5a-1a7fa95c2310"
      },
      "execution_count": 43,
      "outputs": [
        {
          "output_type": "execute_result",
          "data": {
            "text/plain": [
              "(5000, 256, 256)"
            ]
          },
          "metadata": {},
          "execution_count": 43
        }
      ]
    },
    {
      "cell_type": "code",
      "source": [
        "a,_ = test_dataset[i]"
      ],
      "metadata": {
        "id": "9yYRU5B5gcjd"
      },
      "execution_count": 35,
      "outputs": []
    },
    {
      "cell_type": "code",
      "source": [
        "i=3040\n",
        "img,tar = test[i],test[i+1]\n",
        "# time = 4000\n",
        "plt.imshow(img)\n",
        "a,_ = test_dataset[i]\n",
        "a = a.to(device)\n",
        "_,pre = model(a[None,:])\n",
        "print(pre.shape)\n",
        "plt.show()\n",
        "plt.imshow(tar)\n",
        "plt.show()\n",
        "pre=pre.cpu().detach().numpy()\n",
        "plt.imshow(pre.reshape(256,256))"
      ],
      "metadata": {
        "id": "Ui0f466L-Vo_",
        "colab": {
          "base_uri": "https://localhost:8080/",
          "height": 1000
        },
        "outputId": "4d72924b-3843-430c-dd14-9beae6d62846"
      },
      "execution_count": 44,
      "outputs": [
        {
          "output_type": "stream",
          "name": "stdout",
          "text": [
            "torch.Size([1, 1, 256, 256])\n"
          ]
        },
        {
          "output_type": "display_data",
          "data": {
            "text/plain": [
              "<Figure size 640x480 with 1 Axes>"
            ],
            "image/png": "[encoded data removed]"
          },
          "metadata": {}
        },
        {
          "output_type": "display_data",
          "data": {
            "text/plain": [
              "<Figure size 640x480 with 1 Axes>"
            ],
            "image/png": "[encoded data removed]"
          },
          "metadata": {}
        },
        {
          "output_type": "execute_result",
          "data": {
            "text/plain": [
              "<matplotlib.image.AxesImage at 0x7f5fd34d0d00>"
            ]
          },
          "metadata": {},
          "execution_count": 44
        },
        {
          "output_type": "display_data",
          "data": {
            "text/plain": [
              "<Figure size 640x480 with 1 Axes>"
            ],
            "image/png": "[encoded data removed]"
          },
          "metadata": {}
        }
      ]
    },
    {
      "cell_type": "code",
      "source": [
        "torch.save(model,'/content/gdrive/MyDrive/BigData/assessment/Conv2DLstm_1' )"
      ],
      "metadata": {
        "id": "5uLXJA-IthPj"
      },
      "execution_count": 46,
      "outputs": []
    },
    {
      "cell_type": "code",
      "source": [
        "pred_pcaspace = predict_lstm_gen(test_dataset, lstm_gen, next_words=len(test_dataset))\n",
        "pred_pcaphy = pca.inverse_transform(pred_pcaspace)\n",
        "mse_phy = mse(pred_pcaphy,test_1D[4:])\n",
        "print(f'{mse_phy=}')\n",
        "print(mse_phy/np.std(test_1D)*100,'%')\n",
        "time = 4000\n",
        "plt.imshow(test_1D[time].reshape(256,256))\n",
        "plt.show()\n",
        "plt.imshow(pred_pcaphy[time+4].reshape(256,256))"
      ],
      "metadata": {
        "id": "HNDaOYOWgeJ6",
        "colab": {
          "base_uri": "https://localhost:8080/",
          "height": 908
        },
        "outputId": "b1c429ed-2e2d-423b-8650-2ec16c21e2df"
      },
      "execution_count": null,
      "outputs": [
        {
          "output_type": "stream",
          "name": "stdout",
          "text": [
            "mse_phy=0.009423211168306352\n",
            "5.1128904170914735 %\n"
          ]
        },
        {
          "output_type": "display_data",
          "data": {
            "text/plain": [
              "<Figure size 640x480 with 1 Axes>"
            ],
            "image/png": "[encoded data removed]"
          },
          "metadata": {}
        },
        {
          "output_type": "execute_result",
          "data": {
            "text/plain": [
              "<matplotlib.image.AxesImage at 0x7fe151d043a0>"
            ]
          },
          "metadata": {},
          "execution_count": 20
        },
        {
          "output_type": "display_data",
          "data": {
            "text/plain": [
              "<Figure size 640x480 with 1 Axes>"
            ],
            "image/png": "[encoded data removed]"
          },
          "metadata": {}
        }
      ]
    },
    {
      "cell_type": "code",
      "source": [
        "device"
      ],
      "metadata": {
        "id": "zJK11aItJi3M",
        "colab": {
          "base_uri": "https://localhost:8080/"
        },
        "outputId": "271ec13b-14fb-4537-b1bf-12917937631b"
      },
      "execution_count": null,
      "outputs": [
        {
          "output_type": "execute_result",
          "data": {
            "text/plain": [
              "device(type='cuda')"
            ]
          },
          "metadata": {},
          "execution_count": 26
        }
      ]
    },
    {
      "cell_type": "markdown",
      "metadata": {
        "id": "VKJEsHliHo61"
      },
      "source": [
        "We can see that the LSTM generates more coherent text, and jokes that are more funny too!"
      ]
    },
    {
      "cell_type": "code",
      "execution_count": null,
      "metadata": {
        "id": "E5X322hhJ2NV"
      },
      "outputs": [],
      "source": []
    },
    {
      "cell_type": "code",
      "source": [],
      "metadata": {
        "id": "wmnRRNH3LAoZ"
      },
      "execution_count": null,
      "outputs": []
    },
    {
      "cell_type": "code",
      "source": [
        "# dataset with split per 100\n",
        "class MyDataset(TensorDataset):\n",
        "    def __init__(self, data,sequence_length=4):\n",
        "        self.data = data.astype('float64')\n",
        "        self.sequence_length = sequence_length\n",
        "\n",
        "    def __getitem__(self, idx):\n",
        "        ind = ((idx+1) // (100-self.sequence_length))*(self.sequence_length) + idx\n",
        "        sample_input = torch.tensor(self.data[ind:ind+self.sequence_length])       # get a sample input sequence\n",
        "        sample_output = torch.tensor(self.data[ind+1:ind+self.sequence_length+1])  # get a sample output sequence\n",
        "\n",
        "        # return sample_input.type('torch.DoubleTensor'), sample_output.type('torch.DoubleTensor')\n",
        "        return sample_input, sample_output\n",
        "    \n",
        "    def __len__(self):\n",
        "        return len(self.data) - 125 * (self.sequence_length) - self.sequence_length"
      ],
      "metadata": {
        "id": "9lP4Lr6bK8JF"
      },
      "execution_count": null,
      "outputs": []
    },
    {
      "cell_type": "markdown",
      "source": [],
      "metadata": {
        "id": "vLERNdPt_efi"
      }
    }
  ],
  "metadata": {
    "accelerator": "GPU",
    "colab": {
      "provenance": [],
      "machine_shape": "hm",
      "gpuType": "A100"
    },
    "kernelspec": {
      "display_name": "Python 3",
      "language": "python",
      "name": "python3"
    },
    "language_info": {
      "codemirror_mode": {
        "name": "ipython",
        "version": 3
      },
      "file_extension": ".py",
      "mimetype": "text/x-python",
      "name": "python",
      "nbconvert_exporter": "python",
      "pygments_lexer": "ipython3",
      "version": "3.8.5"
    },
    "gpuClass": "standard"
  },
  "nbformat": 4,
  "nbformat_minor": 0
}