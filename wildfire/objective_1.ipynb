{
 "cells": [
  {
   "cell_type": "code",
   "execution_count": 1,
   "id": "fef22102",
   "metadata": {},
   "outputs": [],
   "source": [
    "import os\n",
    "import numpy as np\n",
    "import matplotlib.pyplot as plt\n",
    "import torch\n",
    "from torch.utils.data import DataLoader,TensorDataset\n",
    "from sklearn.metrics import mean_squared_error\n",
    "\n",
    "from utils.train import create_dataloader, train\n",
    "from models import cLSTM"
   ]
  },
  {
   "cell_type": "code",
   "execution_count": 2,
   "id": "9958df0e",
   "metadata": {},
   "outputs": [
    {
     "data": {
      "text/html": [
       "\n",
       "<style>\n",
       ".output_png {\n",
       "    display: table-cell;\n",
       "    text-align: center;\n",
       "    vertical-align: middle;\n",
       "}\n",
       "</style>\n"
      ],
      "text/plain": [
       "<IPython.core.display.HTML object>"
      ]
     },
     "execution_count": 2,
     "metadata": {},
     "output_type": "execute_result"
    }
   ],
   "source": [
    "# this center aligns all figures\n",
    "\n",
    "from IPython.core.display import HTML\n",
    "HTML(\"\"\"\n",
    "<style>\n",
    ".output_png {\n",
    "    display: table-cell;\n",
    "    text-align: center;\n",
    "    vertical-align: middle;\n",
    "}\n",
    "</style>\n",
    "\"\"\")"
   ]
  },
  {
   "cell_type": "markdown",
   "id": "e915db84",
   "metadata": {},
   "source": [
    "### Load/Process Data:"
   ]
  },
  {
   "cell_type": "markdown",
   "id": "ff5e0448",
   "metadata": {},
   "source": [
    "The `WindowDataset` class is a subclass of `TensorDataset` in PyTorch. It creates a 'windowed' dataset from input data, in which each input-output pairs consists of a window of data as the input and the subsequent element as the output."
   ]
  },
  {
   "cell_type": "code",
   "execution_count": 3,
   "id": "42864c24",
   "metadata": {},
   "outputs": [],
   "source": [
    "class WindowDataset(TensorDataset):\n",
    "    def __init__(self, data, window_size=4):\n",
    "        self.data = data.astype('float64')\n",
    "        self.window_size = window_size\n",
    " \n",
    "    def __getitem__(self, idx):\n",
    "        ind = ((idx+1) // (100-self.window_size*10))*(self.window_size*10) + idx\n",
    "        sample_input = torch.tensor(self.data[ind:ind+self.window_size*10:10])      \n",
    "        sample_output = torch.tensor(self.data[ind+self.window_size*10])\n",
    "        return sample_input[:,None,:], sample_output[None,:,:]\n",
    "\n",
    "    def __len__(self):\n",
    "        return len(self.data) - 125 * (self.window_size*10) - self.window_size*10"
   ]
  },
  {
   "cell_type": "code",
   "execution_count": 4,
   "id": "d6a25379",
   "metadata": {},
   "outputs": [],
   "source": [
    "batch_size = 32 # same batch size for train and val\n",
    "\n",
    "train_path = 'data/Ferguson_fire_train.npy'\n",
    "train_data = np.load(train_path)\n",
    "train_dataset = WindowDataset(train_data, window_size=3)\n",
    "train_loader = DataLoader(train_dataset, batch_size=batch_size, shuffle=True)\n",
    "\n",
    "val_path = 'data/Ferguson_fire_test.npy'\n",
    "val_data = np.load(val_path)\n",
    "val_dataset = WindowDataset(val_data, window_size=3)\n",
    "val_loader = DataLoader(val_dataset, batch_size=batch_size, shuffle=True)"
   ]
  },
  {
   "cell_type": "markdown",
   "id": "15f943b1",
   "metadata": {},
   "source": [
    "### Train (ConvLSTM) Model:"
   ]
  },
  {
   "cell_type": "markdown",
   "id": "3a94ac4a",
   "metadata": {},
   "source": [
    "The `train` function trains the model using MSE loss and the Adam optimizer for the specified number of epochs. \n",
    "\n",
    "It includes early stopping based on the validation loss, with a default patience of 3."
   ]
  },
  {
   "cell_type": "code",
   "execution_count": null,
   "id": "1a2098d1",
   "metadata": {
    "scrolled": false
   },
   "outputs": [
    {
     "data": {
      "image/png": "[encoded data removed]",
      "text/plain": [
       "<Figure size 1200x800 with 2 Axes>"
      ]
     },
     "metadata": {},
     "output_type": "display_data"
    },
    {
     "name": "stdout",
     "output_type": "stream",
     "text": [
      "Loss\n",
      "\ttraining         \t (min:    0.045, max:    0.053, cur:    0.045)\n",
      "\tvalidation       \t (min:    0.011, max:    0.012, cur:    0.011)\n",
      "Epoch 5 of 20\n",
      "Train:\n"
     ]
    },
    {
     "name": "stderr",
     "output_type": "stream",
     "text": [
      "100%|███████████████████████████████████████| 273/273 [1:29:41<00:00, 19.71s/it]\n"
     ]
    },
    {
     "name": "stdout",
     "output_type": "stream",
     "text": [
      "Val:\n"
     ]
    },
    {
     "name": "stderr",
     "output_type": "stream",
     "text": [
      " 62%|██████████████████████████▍                | 24/39 [01:39<01:02,  4.14s/it]"
     ]
    }
   ],
   "source": [
    "device = 'cpu'\n",
    "epochs = 20\n",
    "\n",
    "channels = 1\n",
    "clstm = cLSTM.ConvLSTM(input_dim=channels, hidden_dim=16, kernel_size=(3, 3), num_layers=1, batch_first=True, return_all_layers=False).to(device)\n",
    "\n",
    "# loads model from saved weights if found, else trains from scratch\n",
    "if not os.path.exists('models/weights/clstm.pt'):\n",
    "    clstm = train(clstm, train_loader, val_loader, epochs=epochs, device=device)\n",
    "    if not os.path.exists('models/weights'):\n",
    "        os.makedirs('models/weights')\n",
    "    torch.save(clstm.state_dict(), 'models/weights/clstm.pt')\n",
    "else:\n",
    "    clstm.load_state_dict(torch.load('models/weights/clstm.pt', map_location=torch.device('cpu')))"
   ]
  },
  {
   "cell_type": "markdown",
   "id": "5457284e",
   "metadata": {},
   "source": [
    "### Plot validation results (actual vs forecasted):"
   ]
  },
  {
   "cell_type": "code",
   "execution_count": null,
   "id": "20b4d178",
   "metadata": {},
   "outputs": [],
   "source": [
    "images, labels = next(iter(val_loader))\n",
    "clstm.eval()\n",
    "\n",
    "fig, ax = plt.subplots(2, 5, figsize=[18.5, 6])\n",
    "fig.tight_layout(pad=4)\n",
    "for n, idx  in enumerate(torch.randint(0,images.shape[0], (5,))):\n",
    "    _, recon = clstm(images[idx].unsqueeze(0).float())\n",
    "    ax[0, n].imshow(labels[idx].squeeze())\n",
    "    ax[0, n].axis('off')\n",
    "    ax[1, n].imshow(recon.cpu().detach().squeeze())\n",
    "    ax[1, n].axis('off')\n",
    "    if n==0:\n",
    "        ax[0,n].set_title('(Val) Actual:', fontsize=20, pad=20, loc='left')\n",
    "        ax[1,n].set_title('(Val) Forecasted:', fontsize=20, pad=20, loc='left')"
   ]
  },
  {
   "cell_type": "markdown",
   "id": "0d0bb304",
   "metadata": {},
   "source": [
    "### Plot test results (actual vs forecasted):"
   ]
  },
  {
   "cell_type": "code",
   "execution_count": null,
   "id": "e4718db3",
   "metadata": {},
   "outputs": [],
   "source": [
    "# load test (i.e. observation) data\n",
    "\n",
    "test_path = 'data/Ferguson_fire_obs.npy'\n",
    "test_data = np.array(np.load(open(test_path,'rb')))\n",
    "test_data = test_data.reshape(1, test_data.shape[0], 1, test_data.shape[1], test_data.shape[2])\n",
    "x = np.array([test_data[:,0:3,:,:,:], test_data[:,1:4,:,:,:]])\n",
    "y = np.array([test_data[:,3,:,:,:], test_data[:,4,:,:,:]])\n",
    "\n",
    "test_dataset = TensorDataset(torch.Tensor(x),torch.Tensor(y))"
   ]
  },
  {
   "cell_type": "code",
   "execution_count": null,
   "id": "2a8df841",
   "metadata": {
    "scrolled": false
   },
   "outputs": [],
   "source": [
    "fig, ax = plt.subplots(2, 2, figsize=[5, 5])\n",
    "fig.tight_layout(pad=1)\n",
    "mses = []\n",
    "\n",
    "for n,(image, label) in enumerate(test_dataset):\n",
    "    _, recon = clstm(image.double()) \n",
    "    mses.append(mean_squared_error(label.flatten(),recon.cpu().detach().squeeze().flatten()))\n",
    "    ax[0, n].axis('off')\n",
    "    ax[0, n].imshow(label.squeeze())\n",
    "    ax[1, n].imshow(recon.cpu().detach().squeeze())\n",
    "    ax[1, n].axis('off')\n",
    "    if n==0:\n",
    "        ax[0,n].set_title('(Test) Actual:', fontsize=16, pad=10, loc='left')\n",
    "        ax[1,n].set_title('(Test) Forecasted:', fontsize=16, pad=10, loc='left')"
   ]
  },
  {
   "cell_type": "markdown",
   "id": "04756236",
   "metadata": {},
   "source": [
    "### MSE test:\n",
    "\n",
    "Below is the MSE between the (observed) satellite data and the model's forecasts. "
   ]
  },
  {
   "cell_type": "code",
   "execution_count": null,
   "id": "670d49c1",
   "metadata": {},
   "outputs": [],
   "source": [
    "print(f'(Test) MSE: {sum(mses)/len(test_dataset)}')"
   ]
  }
 ],
 "metadata": {
  "kernelspec": {
   "display_name": "Python 3 (ipykernel)",
   "language": "python",
   "name": "python3"
  },
  "language_info": {
   "codemirror_mode": {
    "name": "ipython",
    "version": 3
   },
   "file_extension": ".py",
   "mimetype": "text/x-python",
   "name": "python",
   "nbconvert_exporter": "python",
   "pygments_lexer": "ipython3",
   "version": "3.9.13"
  }
 },
 "nbformat": 4,
 "nbformat_minor": 5
}
