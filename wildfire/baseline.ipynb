{
 "cells": [
  {
   "cell_type": "code",
   "execution_count": 1,
   "id": "fef22102",
   "metadata": {},
   "outputs": [],
   "source": [
    "import os\n",
    "import numpy as np\n",
    "import matplotlib.pyplot as plt\n",
    "import torch\n",
    "import torch.nn as nn\n",
    "import torch.nn.functional as F\n",
    "import torch.utils.data as data\n",
    "from torch.utils.data import DataLoader,TensorDataset\n",
    "from sklearn.metrics import mean_squared_error\n",
    "\n",
    "from utils import train, create_dataloader\n",
    "\n",
    "import cVAE"
   ]
  },
  {
   "cell_type": "markdown",
   "id": "cf048c2d",
   "metadata": {},
   "source": [
    "### Load/Process Data:"
   ]
  },
  {
   "cell_type": "code",
   "execution_count": 2,
   "id": "d6a25379",
   "metadata": {},
   "outputs": [],
   "source": [
    "batch_size = 32\n",
    "\n",
    "train_path = 'data/Ferguson_fire_train.npy'\n",
    "train_loader = create_dataloader(train_path, 32)\n",
    "\n",
    "val_path = 'data/Ferguson_fire_test.npy'\n",
    "val_loader = create_dataloader(val_path, 32, mode='val')\n",
    "\n",
    "test_path = 'data/Ferguson_fire_obs.npy'\n",
    "test_data = np.array(np.load(open(test_path,'rb')))\n",
    "test_data_1D = np.reshape(test_data, (np.shape(test_data)[0],np.shape(test_data)[1]*np.shape(test_data)[2]))\n",
    "test_data_1D_shifted = torch.Tensor(test_data_1D[1:])\n",
    "test_data_1D = torch.Tensor(test_data_1D[:-1])\n",
    "test_dataset = TensorDataset(test_data_1D,test_data_1D_shifted)\n",
    "test_loader = data.DataLoader(dataset=test_dataset, batch_size=2*32, shuffle=False)"
   ]
  },
  {
   "cell_type": "markdown",
   "id": "deba1cb1",
   "metadata": {},
   "source": [
    "### Train (ConvVAE) Model:"
   ]
  },
  {
   "cell_type": "code",
   "execution_count": null,
   "id": "1a2098d1",
   "metadata": {},
   "outputs": [
    {
     "name": "stdout",
     "output_type": "stream",
     "text": [
      "Epoch 1 of 1\n",
      "Train:\n"
     ]
    },
    {
     "name": "stderr",
     "output_type": "stream",
     "text": [
      " 66%|███████████████████████████              | 255/387 [08:51<04:42,  2.14s/it]"
     ]
    }
   ],
   "source": [
    "device = 'cpu'\n",
    "cvae = cVAE.VAE_Conv(device).to(device)\n",
    "\n",
    "if not os.path.exists('models/cvae.pt'):\n",
    "    cvae = train(cvae, train_loader, val_loader, epochs=1, device=device)\n",
    "    if not os.path.exists('models/'):\n",
    "        os.makedirs('models/')\n",
    "        torch.save(cvae.state_dict(), 'models/cvae.pt')\n",
    "else:\n",
    "    cvae.load_state_dict(torch.load('models/cvae.pt'))"
   ]
  },
  {
   "cell_type": "markdown",
   "id": "ccacbb65",
   "metadata": {},
   "source": [
    "### Plot validation results (actual vs forecasted):"
   ]
  },
  {
   "cell_type": "code",
   "execution_count": null,
   "id": "71a3065f",
   "metadata": {},
   "outputs": [],
   "source": [
    "images, labels = next(iter(train_loader))\n",
    "cvae.eval()\n",
    "\n",
    "fig, ax = plt.subplots(2, 5, figsize=[18.5, 6])\n",
    "fig.tight_layout(pad=4)\n",
    "for n, idx  in enumerate(torch.randint(0,images.shape[0], (5,))):\n",
    "    recon, _ = cvae(images[idx].unsqueeze(0)) \n",
    "    if n==2:\n",
    "        ax[0,n].set_title('(Test) Actual:', fontsize=20, pad=20)\n",
    "    ax[0, n].imshow(labels[idx].squeeze())\n",
    "    ax[0, n].axis('off')\n",
    "    if n==2:\n",
    "        ax[1,n].set_title('(Test) Forecasted:', fontsize=20, pad=20)\n",
    "    ax[1, n].imshow(recon.cpu().detach().squeeze())\n",
    "    ax[1, n].axis('off')"
   ]
  },
  {
   "cell_type": "markdown",
   "id": "e44ea50e",
   "metadata": {},
   "source": [
    "### Plot test results (actual vs forecasted):"
   ]
  },
  {
   "cell_type": "code",
   "execution_count": null,
   "id": "2b82ae0b",
   "metadata": {},
   "outputs": [],
   "source": [
    "for image,label in test_dataset:\n",
    "    "
   ]
  },
  {
   "cell_type": "code",
   "execution_count": null,
   "id": "97537921",
   "metadata": {},
   "outputs": [],
   "source": [
    "images, labels = next(iter(test_loader))\n",
    "cvae.eval()\n",
    "\n",
    "_, ax = plt.subplots(2, 5, figsize=[18.5, 6])\n",
    "plt.axis('off')\n",
    "for idx  in enumerate(len(images)):\n",
    "    recon, _ = cvae(images[idx].unsqueeze(0)) \n",
    "    if n==0:\n",
    "        ax[0,n].set_title('(Test) Actual')\n",
    "    ax[0, n].imshow(labels[idx].squeeze())\n",
    "    if n==0:\n",
    "        ax[1,n].set_title('(Test) Forecasted')\n",
    "    ax[1, n].imshow(recon.cpu().detach().squeeze())"
   ]
  },
  {
   "cell_type": "markdown",
   "id": "4cbcecdb",
   "metadata": {},
   "source": [
    "### MSE test:"
   ]
  },
  {
   "cell_type": "code",
   "execution_count": null,
   "id": "83b085b1",
   "metadata": {},
   "outputs": [],
   "source": [
    "# do this"
   ]
  }
 ],
 "metadata": {
  "kernelspec": {
   "display_name": "Python 3 (ipykernel)",
   "language": "python",
   "name": "python3"
  },
  "language_info": {
   "codemirror_mode": {
    "name": "ipython",
    "version": 3
   },
   "file_extension": ".py",
   "mimetype": "text/x-python",
   "name": "python",
   "nbconvert_exporter": "python",
   "pygments_lexer": "ipython3",
   "version": "3.9.13"
  }
 },
 "nbformat": 4,
 "nbformat_minor": 5
}
