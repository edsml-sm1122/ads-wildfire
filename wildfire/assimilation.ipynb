{
 "cells": [
  {
   "cell_type": "code",
   "execution_count": 1,
   "id": "8c7a2029",
   "metadata": {},
   "outputs": [],
   "source": [
    "# predict on background data\n",
    "# compute R and compress (or compress and compute R)\n",
    "# assimilate with obs data\n",
    "# decompress and compute mse with obs data"
   ]
  },
  {
   "cell_type": "code",
   "execution_count": 2,
   "id": "f6932adc",
   "metadata": {},
   "outputs": [],
   "source": [
    "import numpy as np\n",
    "from sklearn.metrics import mean_squared_error"
   ]
  },
  {
   "cell_type": "code",
   "execution_count": 3,
   "id": "fba02604",
   "metadata": {},
   "outputs": [],
   "source": [
    "# load data here (and build data loader)?\n",
    "\n",
    "background = 'data/Ferguson_fire_background.npy'\n",
    "obs = 'data/Ferguson_fire_obs.npy'"
   ]
  },
  {
   "cell_type": "code",
   "execution_count": 4,
   "id": "1c3ee1fe",
   "metadata": {},
   "outputs": [],
   "source": [
    "from numpy.linalg import inv\n",
    "\n",
    "def covariance_matrix(X):\n",
    "    means = np.array([np.mean(X, axis = 1)]).transpose()\n",
    "    dev_matrix = X - means\n",
    "    res = np.dot(dev_matrix, dev_matrix.transpose())/(X.shape[1]-1)\n",
    "    return res\n",
    "\n",
    "def update_prediction(x, K, H, y):\n",
    "    res = x + np.dot(K,(y - np.dot(H, x)))\n",
    "    return res  \n",
    "\n",
    "def KalmanGain(B, H, R):\n",
    "    tempInv = inv(R + np.dot(H,np.dot(B,H.transpose())))\n",
    "    res = np.dot(B,np.dot(H.transpose(),tempInv))\n",
    "    return res"
   ]
  },
  {
   "cell_type": "code",
   "execution_count": null,
   "id": "fc5500b0",
   "metadata": {},
   "outputs": [],
   "source": [
    "preds = []\n",
    "assimilated_preds = []\n",
    "\n",
    "for i in range(len(background)):\n",
    "    for i in range(timestep_gap):\n",
    "        # do prediction\n",
    "        if i==(timestep_gap-1):\n",
    "            #flatten prediction and observation\n",
    "            preds.append(pred)\n",
    "            R = np.cov(obs_compr)\n",
    "            H = I \n",
    "            B = np.cov(prediction_compr.T)\n",
    "            K = KalmanGain(B,H,R)\n",
    "            updated_data_list = []\n",
    "            for i in range(len(prediction_compr)):\n",
    "                updated_data = update_prediction(prediction_compr[i],K,H,obs_compr[i])\n",
    "                updated_data_list.append(updated_data)\n",
    "            updated_data_array = np.array(updated_data_list)\n",
    "            assimilated_preds.append(updated_data_array)\n",
    "            #decompress"
   ]
  },
  {
   "cell_type": "code",
   "execution_count": null,
   "id": "f1f48dc4",
   "metadata": {},
   "outputs": [],
   "source": [
    "# display mse between actual, predictions, and assimilated predictions"
   ]
  },
  {
   "cell_type": "code",
   "execution_count": null,
   "id": "27f955d5",
   "metadata": {},
   "outputs": [],
   "source": [
    "# visualise actual, predictions, and assimilated predictions"
   ]
  }
 ],
 "metadata": {
  "kernelspec": {
   "display_name": "Python 3 (ipykernel)",
   "language": "python",
   "name": "python3"
  },
  "language_info": {
   "codemirror_mode": {
    "name": "ipython",
    "version": 3
   },
   "file_extension": ".py",
   "mimetype": "text/x-python",
   "name": "python",
   "nbconvert_exporter": "python",
   "pygments_lexer": "ipython3",
   "version": "3.9.13"
  }
 },
 "nbformat": 4,
 "nbformat_minor": 5
}
