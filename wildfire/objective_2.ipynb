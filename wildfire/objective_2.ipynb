{
 "cells": [
  {
   "cell_type": "code",
   "execution_count": 1,
   "id": "fef22102",
   "metadata": {},
   "outputs": [],
   "source": [
    "import os\n",
    "import numpy as np\n",
    "import matplotlib.pyplot as plt\n",
    "import torch\n",
    "import torch.nn as nn\n",
    "import torch.nn.functional as F\n",
    "import torch.utils.data as data\n",
    "from torch.utils.data import DataLoader,TensorDataset\n",
    "from sklearn.metrics import mean_squared_error\n",
    "\n",
    "from utils.train import train, create_dataloader\n",
    "from models import cVAE"
   ]
  },
  {
   "cell_type": "markdown",
   "id": "3b7fe344",
   "metadata": {},
   "source": [
    "### Load/Process Data:"
   ]
  },
  {
   "cell_type": "code",
   "execution_count": 2,
   "id": "d6a25379",
   "metadata": {},
   "outputs": [],
   "source": [
    "batch_size = 32\n",
    "\n",
    "train_path = 'data/Ferguson_fire_train.npy'\n",
    "train_loader = create_dataloader(train_path, batch_size)\n",
    "\n",
    "val_path = 'data/Ferguson_fire_test.npy'\n",
    "val_loader = create_dataloader(val_path, batch_size, mode='val')"
   ]
  },
  {
   "cell_type": "markdown",
   "id": "e3cdfb57",
   "metadata": {},
   "source": [
    "### Train (ConvVAE) Model:"
   ]
  },
  {
   "cell_type": "code",
   "execution_count": null,
   "id": "1a2098d1",
   "metadata": {},
   "outputs": [
    {
     "data": {
      "image/png": "[encoded data removed]",
      "text/plain": [
       "<Figure size 1200x800 with 2 Axes>"
      ]
     },
     "metadata": {},
     "output_type": "display_data"
    },
    {
     "name": "stdout",
     "output_type": "stream",
     "text": [
      "Loss\n",
      "\ttraining         \t (min:    0.006, max:    0.006, cur:    0.006)\n",
      "\tvalidation       \t (min:    0.005, max:    0.005, cur:    0.005)\n",
      "Epoch 2 of 20\n",
      "Train:\n"
     ]
    },
    {
     "name": "stderr",
     "output_type": "stream",
     "text": [
      "  6%|██▍                                       | 23/387 [01:58<29:41,  4.89s/it]"
     ]
    }
   ],
   "source": [
    "device = 'cpu'\n",
    "cvae = cVAE.VAE_Conv(device).to(device)\n",
    "\n",
    "if not os.path.exists('models/cvae.pt'):\n",
    "    cvae = train(cvae, train_loader, val_loader, epochs=20, device=device)\n",
    "    torch.save(cvae.state_dict(), 'models/cvae.pt')\n",
    "else:\n",
    "    cvae.load_state_dict(torch.load('models/cvae.pt'))"
   ]
  },
  {
   "cell_type": "markdown",
   "id": "51d1d862",
   "metadata": {},
   "source": [
    "### Plot validation results (actual vs forecasted):"
   ]
  },
  {
   "cell_type": "code",
   "execution_count": null,
   "id": "71a3065f",
   "metadata": {},
   "outputs": [],
   "source": [
    "images, labels = next(iter(train_loader))\n",
    "cvae.eval()\n",
    "\n",
    "fig, ax = plt.subplots(2, 5, figsize=[18.5, 6])\n",
    "fig.tight_layout(pad=4)\n",
    "for n, idx  in enumerate(torch.randint(0,images.shape[0], (5,))):\n",
    "    recon, _ = cvae(images[idx].unsqueeze(0)) \n",
    "    ax[0, n].imshow(labels[idx].squeeze())\n",
    "    ax[0, n].axis('off')\n",
    "    ax[1, n].imshow(recon.cpu().detach().squeeze())\n",
    "    ax[1, n].axis('off')\n",
    "    if n==0:\n",
    "        ax[0,n].set_title('(Val) Actual:', fontsize=20, pad=20, loc='left')\n",
    "        ax[1,n].set_title('(Val) Forecasted:', fontsize=20, pad=20, loc='left')"
   ]
  },
  {
   "cell_type": "markdown",
   "id": "1455a6b5",
   "metadata": {},
   "source": [
    "### Plot test results (actual vs forecasted):"
   ]
  },
  {
   "cell_type": "code",
   "execution_count": null,
   "id": "691af687",
   "metadata": {},
   "outputs": [],
   "source": [
    "test_path = 'data/Ferguson_fire_obs.npy'\n",
    "test_data = np.array(np.load(open(test_path,'rb')))\n",
    "test_data_shifted = torch.Tensor(test_data[1:])\n",
    "test_data = torch.Tensor(test_data[:-1])\n",
    "test_dataset = TensorDataset(test_data,test_data_shifted)"
   ]
  },
  {
   "cell_type": "code",
   "execution_count": null,
   "id": "4edaf232",
   "metadata": {},
   "outputs": [],
   "source": [
    "fig, ax = plt.subplots(2, 4, figsize=[18.5, 6])\n",
    "fig.tight_layout(pad=4)\n",
    "mses = []\n",
    "for n,(image,label) in enumerate(test_dataset):\n",
    "    recon, _ = cvae(image.unsqueeze(0)) \n",
    "    mses.append(mean_squared_error(label.flatten(),recon.cpu().detach().squeeze().flatten()))\n",
    "    ax[0, n].axis('off')\n",
    "    ax[0, n].imshow(label.squeeze())\n",
    "    ax[1, n].imshow(recon.cpu().detach().squeeze())\n",
    "    ax[1, n].axis('off')\n",
    "    if n==0:\n",
    "        ax[0,n].set_title('(Test) Actual:', fontsize=20, pad=20, loc='left')\n",
    "        ax[1,n].set_title('(Test) Forecasted:', fontsize=20, pad=20, loc='left')"
   ]
  },
  {
   "cell_type": "markdown",
   "id": "4053dbdc",
   "metadata": {},
   "source": [
    "### MSE test:"
   ]
  },
  {
   "cell_type": "code",
   "execution_count": null,
   "id": "94d120bd",
   "metadata": {},
   "outputs": [],
   "source": [
    "print(f'(Test) MSE: {sum(mses)/len(test_dataset)}')"
   ]
  }
 ],
 "metadata": {
  "kernelspec": {
   "display_name": "Python 3 (ipykernel)",
   "language": "python",
   "name": "python3"
  },
  "language_info": {
   "codemirror_mode": {
    "name": "ipython",
    "version": 3
   },
   "file_extension": ".py",
   "mimetype": "text/x-python",
   "name": "python",
   "nbconvert_exporter": "python",
   "pygments_lexer": "ipython3",
   "version": "3.9.13"
  }
 },
 "nbformat": 4,
 "nbformat_minor": 5
}
