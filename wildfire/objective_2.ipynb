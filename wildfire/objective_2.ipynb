{
 "cells": [
  {
   "cell_type": "code",
   "execution_count": 1,
   "id": "fef22102",
   "metadata": {},
   "outputs": [],
   "source": [
    "import os\n",
    "import numpy as np\n",
    "import matplotlib.pyplot as plt\n",
    "import torch\n",
    "from torch.utils.data import DataLoader, TensorDataset\n",
    "from sklearn.metrics import mean_squared_error\n",
    "\n",
    "from utils.train import train, create_dataloader\n",
    "from models import cVAE"
   ]
  },
  {
   "cell_type": "code",
   "execution_count": 2,
   "id": "08cd0f96",
   "metadata": {},
   "outputs": [
    {
     "data": {
      "text/html": [
       "\n",
       "<style>\n",
       ".output_png {\n",
       "    display: table-cell;\n",
       "    text-align: center;\n",
       "    vertical-align: middle;\n",
       "}\n",
       "</style>\n"
      ],
      "text/plain": [
       "<IPython.core.display.HTML object>"
      ]
     },
     "execution_count": 2,
     "metadata": {},
     "output_type": "execute_result"
    }
   ],
   "source": [
    "# this center aligns all figures\n",
    "\n",
    "from IPython.core.display import HTML\n",
    "HTML(\"\"\"\n",
    "<style>\n",
    ".output_png {\n",
    "    display: table-cell;\n",
    "    text-align: center;\n",
    "    vertical-align: middle;\n",
    "}\n",
    "</style>\n",
    "\"\"\")"
   ]
  },
  {
   "cell_type": "markdown",
   "id": "6a966d50",
   "metadata": {},
   "source": [
    "### Load/Process Data:"
   ]
  },
  {
   "cell_type": "markdown",
   "id": "33fb899c",
   "metadata": {},
   "source": [
    "The function `create_dataloader` generates a PyTorch dataloader using the given batch size. It loads the input filepath and splits the data into intervals of 100 timesteps. Each split timestep is shifted to form input-output pairs of (t, t+1) images, which are then combined back together."
   ]
  },
  {
   "cell_type": "code",
   "execution_count": 3,
   "id": "d6a25379",
   "metadata": {},
   "outputs": [],
   "source": [
    "batch_size = 32 # same batch size for train and val\n",
    "\n",
    "train_path = 'data/Ferguson_fire_train.npy'\n",
    "train_loader = create_dataloader(train_path, batch_size)\n",
    "\n",
    "val_path = 'data/Ferguson_fire_test.npy'\n",
    "val_loader = create_dataloader(val_path, batch_size, mode='val')"
   ]
  },
  {
   "cell_type": "markdown",
   "id": "e15c235e",
   "metadata": {},
   "source": [
    "### Train (ConvVAE) Model:"
   ]
  },
  {
   "cell_type": "markdown",
   "id": "57fa7fff",
   "metadata": {},
   "source": [
    "The `train` function trains the model using MSE loss and the Adam optimizer for the specified number of epochs. \n",
    "\n",
    "It includes early stopping based on the validation loss, with a default patience of 3."
   ]
  },
  {
   "cell_type": "code",
   "execution_count": null,
   "id": "1a2098d1",
   "metadata": {},
   "outputs": [
    {
     "name": "stdout",
     "output_type": "stream",
     "text": [
      "Epoch 1 of 20\n",
      "Train:\n"
     ]
    },
    {
     "name": "stderr",
     "output_type": "stream",
     "text": [
      "100%|█████████████████████████████████████████| 387/387 [22:36<00:00,  3.51s/it]\n"
     ]
    },
    {
     "name": "stdout",
     "output_type": "stream",
     "text": [
      "Val:\n"
     ]
    },
    {
     "name": "stderr",
     "output_type": "stream",
     "text": [
      " 66%|██████████████████████████▉              | 102/155 [02:36<01:25,  1.61s/it]"
     ]
    }
   ],
   "source": [
    "device = 'cpu'\n",
    "cvae = cVAE.VAE_Conv(device).to(device)\n",
    "\n",
    "# loads model from saved weights if found, else trains from scratch\n",
    "if not os.path.exists('models/weights/cvae.pt'):\n",
    "    cvae = train(cvae, train_loader, val_loader, epochs=20, device=device)\n",
    "    if not os.path.exists('models/weights'):\n",
    "        os.makedirs('models/weights')\n",
    "    torch.save(cvae.state_dict(), 'models/weights/cvae.pt')\n",
    "else:\n",
    "    cvae.load_state_dict(torch.load('models/weights/cvae.pt'))"
   ]
  },
  {
   "cell_type": "markdown",
   "id": "13fa5ee2",
   "metadata": {},
   "source": [
    "### Plot validation results (actual vs forecasted):"
   ]
  },
  {
   "cell_type": "code",
   "execution_count": null,
   "id": "71a3065f",
   "metadata": {},
   "outputs": [],
   "source": [
    "images, labels = next(iter(train_loader))\n",
    "cvae.eval()\n",
    "\n",
    "fig, ax = plt.subplots(2, 5, figsize=[18.5, 6])\n",
    "fig.tight_layout(pad=4)\n",
    "for n, idx  in enumerate(torch.randint(0,images.shape[0], (5,))):\n",
    "    recon, _ = cvae(images[idx].unsqueeze(0)) \n",
    "    ax[0, n].imshow(labels[idx].squeeze())\n",
    "    ax[0, n].axis('off')\n",
    "    ax[1, n].imshow(recon.cpu().detach().squeeze())\n",
    "    ax[1, n].axis('off')\n",
    "    if n==0:\n",
    "        ax[0,n].set_title('(Val) Actual:', fontsize=20, pad=20, loc='left')\n",
    "        ax[1,n].set_title('(Val) Forecasted:', fontsize=20, pad=20, loc='left')"
   ]
  },
  {
   "cell_type": "markdown",
   "id": "3f131f3f",
   "metadata": {},
   "source": [
    "### Load test data and plot test results (actual vs forecasted):"
   ]
  },
  {
   "cell_type": "code",
   "execution_count": null,
   "id": "26a9e3c2",
   "metadata": {},
   "outputs": [],
   "source": [
    "# load test (i.e. observation) data\n",
    "\n",
    "test_path = 'data/Ferguson_fire_obs.npy'\n",
    "test_data = np.array(np.load(open(test_path,'rb')))\n",
    "test_data_shifted = torch.Tensor(test_data[1:])\n",
    "test_data = torch.Tensor(test_data[:-1])\n",
    "test_dataset = TensorDataset(test_data,test_data_shifted)"
   ]
  },
  {
   "cell_type": "code",
   "execution_count": null,
   "id": "cef55e59",
   "metadata": {},
   "outputs": [],
   "source": [
    "fig, ax = plt.subplots(2, 4, figsize=[18.5, 6])\n",
    "fig.tight_layout(pad=4)\n",
    "mses = []\n",
    "for n,(image,label) in enumerate(test_dataset):\n",
    "    recon, _ = cvae(image.unsqueeze(0)) \n",
    "    mses.append(mean_squared_error(label.flatten(),recon.cpu().detach().squeeze().flatten()))\n",
    "    ax[0, n].axis('off')\n",
    "    ax[0, n].imshow(label.squeeze())\n",
    "    ax[1, n].imshow(recon.cpu().detach().squeeze())\n",
    "    ax[1, n].axis('off')\n",
    "    if n==0:\n",
    "        ax[0,n].set_title('(Test) Actual:', fontsize=20, pad=20, loc='left')\n",
    "        ax[1,n].set_title('(Test) Forecasted:', fontsize=20, pad=20, loc='left')"
   ]
  },
  {
   "cell_type": "markdown",
   "id": "76f28c28",
   "metadata": {},
   "source": [
    "### Test MSE:\n",
    "\n",
    "Below is the MSE between the (observed) satellite data and the model's forecasts. "
   ]
  },
  {
   "cell_type": "code",
   "execution_count": null,
   "id": "692f37c4",
   "metadata": {},
   "outputs": [],
   "source": [
    "print(f'(Test) MSE: {sum(mses)/len(test_dataset)}')"
   ]
  }
 ],
 "metadata": {
  "kernelspec": {
   "display_name": "Python 3 (ipykernel)",
   "language": "python",
   "name": "python3"
  },
  "language_info": {
   "codemirror_mode": {
    "name": "ipython",
    "version": 3
   },
   "file_extension": ".py",
   "mimetype": "text/x-python",
   "name": "python",
   "nbconvert_exporter": "python",
   "pygments_lexer": "ipython3",
   "version": "3.9.13"
  }
 },
 "nbformat": 4,
 "nbformat_minor": 5
}
