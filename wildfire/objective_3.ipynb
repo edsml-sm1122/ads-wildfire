{
 "cells": [
  {
   "cell_type": "code",
   "execution_count": 1,
   "id": "59cf3eb6",
   "metadata": {},
   "outputs": [],
   "source": [
    "import os\n",
    "import numpy as np\n",
    "import matplotlib.pyplot as plt\n",
    "import torch\n",
    "import torch.utils.data as data\n",
    "from torch.utils.data import DataLoader,TensorDataset\n",
    "from sklearn.decomposition import PCA\n",
    "from sklearn.metrics import mean_squared_error\n",
    "\n",
    "from utils.assimilate import run_assimilation\n",
    "from models import cVAE, cLSTM"
   ]
  },
  {
   "cell_type": "markdown",
   "id": "52a022c2",
   "metadata": {},
   "source": [
    "### Load/Process Data:"
   ]
  },
  {
   "cell_type": "code",
   "execution_count": 2,
   "id": "94d9cfba",
   "metadata": {},
   "outputs": [],
   "source": [
    "background_path = 'data/Ferguson_fire_background.npy'\n",
    "background_data = np.array(np.load(open(background_path,'rb')))\n",
    "background_dataset = TensorDataset(torch.Tensor(background_data))\n",
    "\n",
    "obs_path = 'data/Ferguson_fire_obs.npy'\n",
    "obs_data = np.array(np.load(open(obs_path,'rb')))\n",
    "obs_dataset = TensorDataset(torch.Tensor(obs_data))"
   ]
  },
  {
   "cell_type": "markdown",
   "id": "942a48d4",
   "metadata": {},
   "source": [
    "### Load Models:"
   ]
  },
  {
   "cell_type": "code",
   "execution_count": 3,
   "id": "fba2ea5b",
   "metadata": {},
   "outputs": [],
   "source": [
    "device = 'cpu'\n",
    "cvae = cVAE.VAE_Conv(device).to(device)\n",
    "\n",
    "if not os.path.exists('models/cvae.pt'):\n",
    "    print('No trained model availabe')  # do something else here\n",
    "else:\n",
    "    cvae.load_state_dict(torch.load('models/cvae.pt'))\n",
    "\n",
    "cvae.eval();"
   ]
  },
  {
   "cell_type": "code",
   "execution_count": 4,
   "id": "aab94de1",
   "metadata": {},
   "outputs": [],
   "source": [
    "# load LSTM model here"
   ]
  },
  {
   "cell_type": "markdown",
   "id": "377e73d5",
   "metadata": {},
   "source": [
    "### Generate Model Predictions:"
   ]
  },
  {
   "cell_type": "code",
   "execution_count": 5,
   "id": "09304950",
   "metadata": {},
   "outputs": [],
   "source": [
    "def predict(model, background_dataset, timesteps):\n",
    "    preds = []\n",
    "    for i in range(len(background_dataset)):\n",
    "        pred,_ = model(background_dataset[i][0].unsqueeze(0)) \n",
    "        for j in range(timestep_gap):\n",
    "            if j == 0:\n",
    "                pred,_ = model(background_dataset[i][0].unsqueeze(0)) \n",
    "            else:\n",
    "                pred, _ = model(pred)           \n",
    "        preds.append(pred.detach().numpy())\n",
    "    preds = np.array(preds).squeeze() "
   ]
  },
  {
   "cell_type": "code",
   "execution_count": 6,
   "id": "5f80b7c7",
   "metadata": {},
   "outputs": [
    {
     "ename": "NameError",
     "evalue": "name 'timestep_gap' is not defined",
     "output_type": "error",
     "traceback": [
      "\u001b[0;31m---------------------------------------------------------------------------\u001b[0m",
      "\u001b[0;31mNameError\u001b[0m                                 Traceback (most recent call last)",
      "Cell \u001b[0;32mIn [6], line 1\u001b[0m\n\u001b[0;32m----> 1\u001b[0m cvae_preds \u001b[38;5;241m=\u001b[39m \u001b[43mpredict\u001b[49m\u001b[43m(\u001b[49m\u001b[43mcvae\u001b[49m\u001b[43m,\u001b[49m\u001b[43m \u001b[49m\u001b[43mbackground_dataset\u001b[49m\u001b[43m,\u001b[49m\u001b[43m \u001b[49m\u001b[38;5;241;43m10\u001b[39;49m\u001b[43m)\u001b[49m\n",
      "Cell \u001b[0;32mIn [5], line 5\u001b[0m, in \u001b[0;36mpredict\u001b[0;34m(model, background_dataset, timesteps)\u001b[0m\n\u001b[1;32m      3\u001b[0m \u001b[38;5;28;01mfor\u001b[39;00m i \u001b[38;5;129;01min\u001b[39;00m \u001b[38;5;28mrange\u001b[39m(\u001b[38;5;28mlen\u001b[39m(background_dataset)):\n\u001b[1;32m      4\u001b[0m     pred,_ \u001b[38;5;241m=\u001b[39m model(background_dataset[i][\u001b[38;5;241m0\u001b[39m]\u001b[38;5;241m.\u001b[39munsqueeze(\u001b[38;5;241m0\u001b[39m)) \n\u001b[0;32m----> 5\u001b[0m     \u001b[38;5;28;01mfor\u001b[39;00m j \u001b[38;5;129;01min\u001b[39;00m \u001b[38;5;28mrange\u001b[39m(\u001b[43mtimestep_gap\u001b[49m):\n\u001b[1;32m      6\u001b[0m         \u001b[38;5;28;01mif\u001b[39;00m j \u001b[38;5;241m==\u001b[39m \u001b[38;5;241m0\u001b[39m:\n\u001b[1;32m      7\u001b[0m             pred,_ \u001b[38;5;241m=\u001b[39m model(background_dataset[i][\u001b[38;5;241m0\u001b[39m]\u001b[38;5;241m.\u001b[39munsqueeze(\u001b[38;5;241m0\u001b[39m)) \n",
      "\u001b[0;31mNameError\u001b[0m: name 'timestep_gap' is not defined"
     ]
    }
   ],
   "source": [
    "cvae_preds = predict(cvae, background_dataset, 10)"
   ]
  },
  {
   "cell_type": "code",
   "execution_count": null,
   "id": "14574dc1",
   "metadata": {},
   "outputs": [],
   "source": [
    "# generate forecasts with LSTM here"
   ]
  },
  {
   "cell_type": "markdown",
   "id": "8c8413fc",
   "metadata": {},
   "source": [
    "### Compress predictions and observed data:"
   ]
  },
  {
   "cell_type": "code",
   "execution_count": null,
   "id": "8f02d263",
   "metadata": {},
   "outputs": [],
   "source": [
    "pca = PCA(n_components = 5)\n",
    "\n",
    "obs_data_1D = np.reshape(obs_data,(obs_data.shape[0],obs_data.shape[1]*obs_data.shape[2]))\n",
    "obs_data_compr = pca.fit_transform(obs_data_1D)\n",
    "\n",
    "cvae_preds_1D = np.reshape(preds,(preds.shape[0],preds.shape[1]*preds.shape[2]))\n",
    "cvae_preds_compr = pca.transform(preds_1D)"
   ]
  },
  {
   "cell_type": "code",
   "execution_count": null,
   "id": "9eed236b",
   "metadata": {},
   "outputs": [],
   "source": [
    "# compress lstm preds here"
   ]
  },
  {
   "cell_type": "markdown",
   "id": "56f3361f",
   "metadata": {},
   "source": [
    "### Perform data assimilation (DA):"
   ]
  },
  {
   "cell_type": "code",
   "execution_count": null,
   "id": "3ed4f4fd",
   "metadata": {},
   "outputs": [],
   "source": [
    "cvae_assimilated_preds = run_assimilation(cvae_preds_compr, obs_compr)\n",
    "cvae_assimilated_preds = np.array(pca.inverse_transform(cvae_assimilated_preds))"
   ]
  },
  {
   "cell_type": "code",
   "execution_count": null,
   "id": "55636a57",
   "metadata": {},
   "outputs": [],
   "source": [
    "# perform assimilation with lstm preds here"
   ]
  },
  {
   "cell_type": "markdown",
   "id": "367d6613",
   "metadata": {},
   "source": [
    "### MSE, before vs after DA:"
   ]
  },
  {
   "cell_type": "code",
   "execution_count": null,
   "id": "934a47bc",
   "metadata": {},
   "outputs": [],
   "source": [
    "vae_before = mean_squared_error(obs_data_1D, preds_1D)\n",
    "vae_after = mean_squared_error(obs_data_1D, assimilated_preds)\n",
    "\n",
    "print(f'CVAE MSE (in physical space) before DA: {vae_before}')\n",
    "print(f'CVAE MSE (in physical space) after DA: {vae_after}')"
   ]
  },
  {
   "cell_type": "code",
   "execution_count": null,
   "id": "19c57e61",
   "metadata": {},
   "outputs": [],
   "source": [
    "# display mse between actual, predictions, and assimilated predictions for LSTM here"
   ]
  },
  {
   "cell_type": "markdown",
   "id": "adcd22cd",
   "metadata": {},
   "source": [
    "### Plot results (actual vs forecasted vs assimilated forecasted):"
   ]
  },
  {
   "cell_type": "markdown",
   "id": "2511f0ad",
   "metadata": {},
   "source": [
    "### Objective 1 Model (ConvVAE):"
   ]
  },
  {
   "cell_type": "code",
   "execution_count": null,
   "id": "e14bd5ed",
   "metadata": {},
   "outputs": [],
   "source": [
    "fig, ax = plt.subplots(3, 5, figsize=[20, 8])\n",
    "fig.tight_layout(pad=4)\n",
    "assimilated_preds = np.reshape(assimilated_preds, (assimilated_preds.shape[0], obs_data.shape[1],obs_data.shape[2]))\n",
    "for n in range(len(background_data)):\n",
    "    ax[0, n].imshow(obs_data[n])\n",
    "    ax[0, n].axis('off')\n",
    "    ax[1, n].imshow(preds[n])\n",
    "    ax[1, n].axis('off')\n",
    "    ax[2, n].imshow(assimilated_preds[n])\n",
    "    ax[2, n].axis('off')    \n",
    "    if n==0:\n",
    "        ax[0,n].set_title('Actual:', fontsize=20, pad=20, loc='left')\n",
    "        ax[1,n].set_title('Forecasted:', fontsize=20, pad=20, loc='left')\n",
    "        ax[2,n].set_title('Forecasted (with DA):', fontsize=20, pad=20, loc='left')"
   ]
  },
  {
   "cell_type": "markdown",
   "id": "f5ad3a01",
   "metadata": {},
   "source": [
    "### Objective 2 Model (ConvVAE):"
   ]
  },
  {
   "cell_type": "code",
   "execution_count": null,
   "id": "d8dcb578",
   "metadata": {},
   "outputs": [],
   "source": [
    "# visualise actual, predictions, and assimilated predictions for LSTM here"
   ]
  }
 ],
 "metadata": {
  "kernelspec": {
   "display_name": "Python 3 (ipykernel)",
   "language": "python",
   "name": "python3"
  },
  "language_info": {
   "codemirror_mode": {
    "name": "ipython",
    "version": 3
   },
   "file_extension": ".py",
   "mimetype": "text/x-python",
   "name": "python",
   "nbconvert_exporter": "python",
   "pygments_lexer": "ipython3",
   "version": "3.9.13"
  }
 },
 "nbformat": 4,
 "nbformat_minor": 5
}
