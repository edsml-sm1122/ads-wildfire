{
 "cells": [
  {
   "cell_type": "code",
   "execution_count": 1,
   "id": "aea66114",
   "metadata": {},
   "outputs": [],
   "source": [
    "import os\n",
    "import numpy as np\n",
    "import matplotlib.pyplot as plt\n",
    "import torch\n",
    "import torch.utils.data as data\n",
    "from torch.utils.data import DataLoader,TensorDataset\n",
    "from sklearn.decomposition import PCA\n",
    "from sklearn.metrics import mean_squared_error\n",
    "\n",
    "from utils.assimilate import run_assimilation\n",
    "from models import cVAE, cLSTM"
   ]
  },
  {
   "cell_type": "code",
   "execution_count": null,
   "id": "5e3328a1",
   "metadata": {},
   "outputs": [],
   "source": [
    "# TODO\n",
    "# - control flow for if models don't exist"
   ]
  },
  {
   "cell_type": "markdown",
   "id": "0cb86b20",
   "metadata": {},
   "source": [
    "### Load/Process Data:"
   ]
  },
  {
   "cell_type": "code",
   "execution_count": 2,
   "id": "fa370358",
   "metadata": {},
   "outputs": [],
   "source": [
    "background_path = 'data/Ferguson_fire_background.npy'\n",
    "background_data = np.array(np.load(open(background_path,'rb')))\n",
    "background_dataset = TensorDataset(torch.Tensor(background_data))\n",
    "\n",
    "obs_path = 'data/Ferguson_fire_obs.npy'\n",
    "obs_data = np.array(np.load(open(obs_path,'rb')))\n",
    "obs_dataset = TensorDataset(torch.Tensor(obs_data))"
   ]
  },
  {
   "cell_type": "markdown",
   "id": "129cb5f7",
   "metadata": {},
   "source": [
    "### Load Models:"
   ]
  },
  {
   "cell_type": "code",
   "execution_count": 3,
   "id": "290ab287",
   "metadata": {},
   "outputs": [
    {
     "ename": "RuntimeError",
     "evalue": "Error(s) in loading state_dict for ConvLSTM:\n\tsize mismatch for cell_list.0.conv.weight: copying a param with shape torch.Size([64, 17, 3, 3]) from checkpoint, the shape in current model is torch.Size([128, 33, 3, 3]).\n\tsize mismatch for cell_list.0.conv.bias: copying a param with shape torch.Size([64]) from checkpoint, the shape in current model is torch.Size([128]).",
     "output_type": "error",
     "traceback": [
      "\u001b[0;31m---------------------------------------------------------------------------\u001b[0m",
      "\u001b[0;31mRuntimeError\u001b[0m                              Traceback (most recent call last)",
      "Cell \u001b[0;32mIn [3], line 13\u001b[0m\n\u001b[1;32m     11\u001b[0m     cvae\u001b[38;5;241m.\u001b[39mload_state_dict(torch\u001b[38;5;241m.\u001b[39mload(\u001b[38;5;124m'\u001b[39m\u001b[38;5;124mmodels/cvae_best.pt\u001b[39m\u001b[38;5;124m'\u001b[39m))\n\u001b[1;32m     12\u001b[0m     clstm_state_dict \u001b[38;5;241m=\u001b[39m torch\u001b[38;5;241m.\u001b[39mload(\u001b[38;5;124m'\u001b[39m\u001b[38;5;124mmodels/clstm.pt\u001b[39m\u001b[38;5;124m'\u001b[39m, map_location\u001b[38;5;241m=\u001b[39mtorch\u001b[38;5;241m.\u001b[39mdevice(\u001b[38;5;124m'\u001b[39m\u001b[38;5;124mcpu\u001b[39m\u001b[38;5;124m'\u001b[39m))\n\u001b[0;32m---> 13\u001b[0m     \u001b[43mclstm\u001b[49m\u001b[38;5;241;43m.\u001b[39;49m\u001b[43mload_state_dict\u001b[49m\u001b[43m(\u001b[49m\u001b[43mclstm_state_dict\u001b[49m\u001b[43m)\u001b[49m\n\u001b[1;32m     15\u001b[0m cvae\u001b[38;5;241m.\u001b[39meval()\n",
      "File \u001b[0;32m/opt/homebrew/Caskroom/miniconda/base/lib/python3.9/site-packages/torch/nn/modules/module.py:2041\u001b[0m, in \u001b[0;36mModule.load_state_dict\u001b[0;34m(self, state_dict, strict)\u001b[0m\n\u001b[1;32m   2036\u001b[0m         error_msgs\u001b[38;5;241m.\u001b[39minsert(\n\u001b[1;32m   2037\u001b[0m             \u001b[38;5;241m0\u001b[39m, \u001b[38;5;124m'\u001b[39m\u001b[38;5;124mMissing key(s) in state_dict: \u001b[39m\u001b[38;5;132;01m{}\u001b[39;00m\u001b[38;5;124m. \u001b[39m\u001b[38;5;124m'\u001b[39m\u001b[38;5;241m.\u001b[39mformat(\n\u001b[1;32m   2038\u001b[0m                 \u001b[38;5;124m'\u001b[39m\u001b[38;5;124m, \u001b[39m\u001b[38;5;124m'\u001b[39m\u001b[38;5;241m.\u001b[39mjoin(\u001b[38;5;124m'\u001b[39m\u001b[38;5;124m\"\u001b[39m\u001b[38;5;132;01m{}\u001b[39;00m\u001b[38;5;124m\"\u001b[39m\u001b[38;5;124m'\u001b[39m\u001b[38;5;241m.\u001b[39mformat(k) \u001b[38;5;28;01mfor\u001b[39;00m k \u001b[38;5;129;01min\u001b[39;00m missing_keys)))\n\u001b[1;32m   2040\u001b[0m \u001b[38;5;28;01mif\u001b[39;00m \u001b[38;5;28mlen\u001b[39m(error_msgs) \u001b[38;5;241m>\u001b[39m \u001b[38;5;241m0\u001b[39m:\n\u001b[0;32m-> 2041\u001b[0m     \u001b[38;5;28;01mraise\u001b[39;00m \u001b[38;5;167;01mRuntimeError\u001b[39;00m(\u001b[38;5;124m'\u001b[39m\u001b[38;5;124mError(s) in loading state_dict for \u001b[39m\u001b[38;5;132;01m{}\u001b[39;00m\u001b[38;5;124m:\u001b[39m\u001b[38;5;130;01m\\n\u001b[39;00m\u001b[38;5;130;01m\\t\u001b[39;00m\u001b[38;5;132;01m{}\u001b[39;00m\u001b[38;5;124m'\u001b[39m\u001b[38;5;241m.\u001b[39mformat(\n\u001b[1;32m   2042\u001b[0m                        \u001b[38;5;28mself\u001b[39m\u001b[38;5;241m.\u001b[39m\u001b[38;5;18m__class__\u001b[39m\u001b[38;5;241m.\u001b[39m\u001b[38;5;18m__name__\u001b[39m, \u001b[38;5;124m\"\u001b[39m\u001b[38;5;130;01m\\n\u001b[39;00m\u001b[38;5;130;01m\\t\u001b[39;00m\u001b[38;5;124m\"\u001b[39m\u001b[38;5;241m.\u001b[39mjoin(error_msgs)))\n\u001b[1;32m   2043\u001b[0m \u001b[38;5;28;01mreturn\u001b[39;00m _IncompatibleKeys(missing_keys, unexpected_keys)\n",
      "\u001b[0;31mRuntimeError\u001b[0m: Error(s) in loading state_dict for ConvLSTM:\n\tsize mismatch for cell_list.0.conv.weight: copying a param with shape torch.Size([64, 17, 3, 3]) from checkpoint, the shape in current model is torch.Size([128, 33, 3, 3]).\n\tsize mismatch for cell_list.0.conv.bias: copying a param with shape torch.Size([64]) from checkpoint, the shape in current model is torch.Size([128])."
     ]
    }
   ],
   "source": [
    "device = 'cpu'\n",
    "cvae = cVAE.VAE_Conv(device).to(device)\n",
    "clstm = cLSTM.ConvLSTM(input_dim=1,\n",
    "                 hidden_dim=32,\n",
    "                 kernel_size=(3, 3),\n",
    "                 num_layers=1).to(device)\n",
    "\n",
    "if not os.path.exists('models/cvae_best.pt'):\n",
    "    print('No trained model available')  # do something else here\n",
    "else:\n",
    "    cvae.load_state_dict(torch.load('models/cvae_best.pt'))\n",
    "    clstm_state_dict = torch.load('models/clstm.pt', map_location=torch.device('cpu'))\n",
    "    clstm.load_state_dict(clstm_state_dict)\n",
    "    \n",
    "cvae.eval();"
   ]
  },
  {
   "cell_type": "code",
   "execution_count": null,
   "id": "96c45e43",
   "metadata": {},
   "outputs": [],
   "source": [
    "# load LSTM model here"
   ]
  },
  {
   "cell_type": "markdown",
   "id": "bb135764",
   "metadata": {},
   "source": [
    "### Generate Model Predictions:"
   ]
  },
  {
   "cell_type": "markdown",
   "id": "d2e003c0",
   "metadata": {},
   "source": [
    "Explain what I'm doing here..."
   ]
  },
  {
   "cell_type": "code",
   "execution_count": null,
   "id": "a04c3026",
   "metadata": {},
   "outputs": [],
   "source": [
    "def predict(model, background_dataset, timesteps):\n",
    "    preds = []\n",
    "    for i in range(len(background_dataset)-1):\n",
    "        pred,_ = model(background_dataset[i][0].unsqueeze(0)) \n",
    "        for j in range(timesteps):\n",
    "            if j == 0:\n",
    "                pred,_ = model(background_dataset[i][0].unsqueeze(0)) \n",
    "            else:\n",
    "                pred, _ = model(pred)           \n",
    "        preds.append(pred.detach().numpy())\n",
    "    preds = np.array(preds).squeeze() \n",
    "    return preds"
   ]
  },
  {
   "cell_type": "code",
   "execution_count": null,
   "id": "d3fb0014",
   "metadata": {},
   "outputs": [],
   "source": [
    "cvae_preds = predict(cvae, background_dataset, 10)"
   ]
  },
  {
   "cell_type": "code",
   "execution_count": null,
   "id": "d503e3a4",
   "metadata": {},
   "outputs": [],
   "source": [
    "# generate forecasts with LSTM here"
   ]
  },
  {
   "cell_type": "markdown",
   "id": "a7cd06fa",
   "metadata": {},
   "source": [
    "### Compress predictions and observed data:"
   ]
  },
  {
   "cell_type": "markdown",
   "id": "d93b13b4",
   "metadata": {},
   "source": [
    "Explain what I'm doing here..."
   ]
  },
  {
   "cell_type": "code",
   "execution_count": null,
   "id": "effaa25b",
   "metadata": {},
   "outputs": [],
   "source": [
    "pca = PCA(n_components = 5)\n",
    "\n",
    "obs_data_1D = np.reshape(obs_data,(obs_data.shape[0],obs_data.shape[1]*obs_data.shape[2]))\n",
    "obs_data_compr = pca.fit_transform(obs_data_1D)\n",
    "\n",
    "cvae_preds_1D = np.reshape(cvae_preds,(cvae_preds.shape[0],cvae_preds.shape[1]*cvae_preds.shape[2]))\n",
    "cvae_preds_compr = pca.transform(cvae_preds_1D)"
   ]
  },
  {
   "cell_type": "code",
   "execution_count": null,
   "id": "886cb05d",
   "metadata": {},
   "outputs": [],
   "source": [
    "# compress lstm preds here"
   ]
  },
  {
   "cell_type": "markdown",
   "id": "2b11c0ac",
   "metadata": {},
   "source": [
    "### Perform data assimilation (DA):"
   ]
  },
  {
   "cell_type": "markdown",
   "id": "e49db37e",
   "metadata": {},
   "source": [
    "Explain what I'm doing here"
   ]
  },
  {
   "cell_type": "code",
   "execution_count": null,
   "id": "727178c3",
   "metadata": {},
   "outputs": [],
   "source": [
    "cvae_assimilated_preds = run_assimilation(cvae_preds_compr, obs_data_compr)\n",
    "cvae_assimilated_preds = np.array(pca.inverse_transform(cvae_assimilated_preds))"
   ]
  },
  {
   "cell_type": "code",
   "execution_count": null,
   "id": "df19fa0d",
   "metadata": {},
   "outputs": [],
   "source": [
    "# perform assimilation with lstm preds here"
   ]
  },
  {
   "cell_type": "markdown",
   "id": "a15d95a1",
   "metadata": {},
   "source": [
    "### MSE, before vs after DA:"
   ]
  },
  {
   "cell_type": "code",
   "execution_count": null,
   "id": "b863ab92",
   "metadata": {},
   "outputs": [],
   "source": [
    "vae_before = mean_squared_error(obs_data_1D[1:], cvae_preds_1D)\n",
    "vae_after = mean_squared_error(obs_data_1D[1:], cvae_assimilated_preds)\n",
    "\n",
    "print(f'CVAE MSE (in physical space) before DA: {vae_before}')\n",
    "print(f'CVAE MSE (in physical space) after DA: {vae_after}')"
   ]
  },
  {
   "cell_type": "code",
   "execution_count": null,
   "id": "b2da0fd2",
   "metadata": {},
   "outputs": [],
   "source": [
    "# display mse between actual, predictions, and assimilated predictions for LSTM here"
   ]
  },
  {
   "cell_type": "markdown",
   "id": "ce1abdeb",
   "metadata": {},
   "source": [
    "### Plot results (actual vs forecasted vs assimilated forecasted):"
   ]
  },
  {
   "cell_type": "markdown",
   "id": "afdc4369",
   "metadata": {},
   "source": [
    "### Objective 1 Model (ConvVAE):"
   ]
  },
  {
   "cell_type": "code",
   "execution_count": null,
   "id": "c4a774f9",
   "metadata": {},
   "outputs": [],
   "source": [
    "fig, ax = plt.subplots(3, 4, figsize=[20, 8])\n",
    "fig.tight_layout(pad=4)\n",
    "cvae_assimilated_preds = np.reshape(cvae_assimilated_preds, (cvae_assimilated_preds.shape[0], obs_data.shape[1],obs_data.shape[2]))\n",
    "for n in range(len(background_data)-1):\n",
    "    ax[0, n].imshow(obs_data[n+1])\n",
    "    ax[0, n].axis('off')\n",
    "    ax[1, n].imshow(cvae_preds[n])\n",
    "    ax[1, n].axis('off')\n",
    "    ax[2, n].imshow(cvae_assimilated_preds[n])\n",
    "    ax[2, n].axis('off')    \n",
    "    if n==0:\n",
    "        ax[0,n].set_title('Actual:', fontsize=20, pad=20, loc='left')\n",
    "        ax[1,n].set_title('Forecasted:', fontsize=20, pad=20, loc='left')\n",
    "        ax[2,n].set_title('Forecasted (with DA):', fontsize=20, pad=20, loc='left')"
   ]
  },
  {
   "cell_type": "markdown",
   "id": "212bbc00",
   "metadata": {},
   "source": [
    "### Objective 2 Model (ConvVAE):"
   ]
  },
  {
   "cell_type": "code",
   "execution_count": null,
   "id": "5a02c2de",
   "metadata": {},
   "outputs": [],
   "source": [
    "# visualise actual, predictions, and assimilated predictions for LSTM here"
   ]
  }
 ],
 "metadata": {
  "kernelspec": {
   "display_name": "Python 3 (ipykernel)",
   "language": "python",
   "name": "python3"
  },
  "language_info": {
   "codemirror_mode": {
    "name": "ipython",
    "version": 3
   },
   "file_extension": ".py",
   "mimetype": "text/x-python",
   "name": "python",
   "nbconvert_exporter": "python",
   "pygments_lexer": "ipython3",
   "version": "3.9.13"
  }
 },
 "nbformat": 4,
 "nbformat_minor": 5
}
