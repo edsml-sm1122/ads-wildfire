{
 "cells": [
  {
   "cell_type": "code",
   "execution_count": 1,
   "id": "b0a0cd93",
   "metadata": {},
   "outputs": [],
   "source": [
    "import os\n",
    "import numpy as np\n",
    "import matplotlib.pyplot as plt\n",
    "import torch\n",
    "import torch.utils.data as data\n",
    "from torch.utils.data import DataLoader,TensorDataset\n",
    "from sklearn.decomposition import PCA\n",
    "from sklearn.metrics import mean_squared_error\n",
    "\n",
    "from utils.assimilate import run_assimilation\n",
    "from models import cVAE, cLSTM"
   ]
  },
  {
   "cell_type": "code",
   "execution_count": null,
   "id": "ea9ad040",
   "metadata": {},
   "outputs": [],
   "source": [
    "# TODO\n",
    "# - control flow for if models don't exist"
   ]
  },
  {
   "cell_type": "markdown",
   "id": "c2b5f680",
   "metadata": {},
   "source": [
    "### Load/Process Data:"
   ]
  },
  {
   "cell_type": "code",
   "execution_count": 34,
   "id": "584a2601",
   "metadata": {},
   "outputs": [
    {
     "ename": "NameError",
     "evalue": "name 'add_ids' is not defined",
     "output_type": "error",
     "traceback": [
      "\u001b[0;31m---------------------------------------------------------------------------\u001b[0m",
      "\u001b[0;31mNameError\u001b[0m                                 Traceback (most recent call last)",
      "Cell \u001b[0;32mIn [34], line 5\u001b[0m\n\u001b[1;32m      2\u001b[0m background_data \u001b[38;5;241m=\u001b[39m np\u001b[38;5;241m.\u001b[39marray(np\u001b[38;5;241m.\u001b[39mload(\u001b[38;5;28mopen\u001b[39m(background_path,\u001b[38;5;124m'\u001b[39m\u001b[38;5;124mrb\u001b[39m\u001b[38;5;124m'\u001b[39m)))\u001b[38;5;241m.\u001b[39mastype(\u001b[38;5;124m'\u001b[39m\u001b[38;5;124mfloat64\u001b[39m\u001b[38;5;124m'\u001b[39m)\n\u001b[1;32m      3\u001b[0m \u001b[38;5;66;03m# background_dataset = TensorDataset(torch.Tensor(background_data))\u001b[39;00m\n\u001b[0;32m----> 5\u001b[0m background_dataset \u001b[38;5;241m=\u001b[39m \u001b[43madd_ids\u001b[49m(TensorDataset)\n\u001b[1;32m      6\u001b[0m \u001b[38;5;66;03m# Instantiate it with tensors\u001b[39;00m\n\u001b[1;32m      7\u001b[0m background_dataset  \u001b[38;5;241m=\u001b[39m background_dataset(torch\u001b[38;5;241m.\u001b[39mTensor(background_data))\n",
      "\u001b[0;31mNameError\u001b[0m: name 'add_ids' is not defined"
     ]
    }
   ],
   "source": [
    "background_path = 'data/Ferguson_fire_background.npy'\n",
    "background_data = np.array(np.load(open(background_path,'rb'))).astype('float64')\n",
    "# background_dataset = TensorDataset(torch.Tensor(background_data))\n",
    "\n",
    "background_dataset = add_ids(TensorDataset)\n",
    "# Instantiate it with tensors\n",
    "background_dataset  = background_dataset(torch.Tensor(background_data))\n",
    "\n",
    "obs_path = 'data/Ferguson_fire_obs.npy'\n",
    "obs_data = np.array(np.load(open(obs_path,'rb')))\n",
    "obs_dataset = TensorDataset(torch.Tensor(obs_data))"
   ]
  },
  {
   "cell_type": "markdown",
   "id": "0e5ebce7",
   "metadata": {},
   "source": [
    "### Load Models:"
   ]
  },
  {
   "cell_type": "code",
   "execution_count": 30,
   "id": "0e7ae96e",
   "metadata": {},
   "outputs": [],
   "source": [
    "device = 'cpu'\n",
    "cvae = cVAE.VAE_Conv(device).to(device)\n",
    "clstm = cLSTM.ConvLSTM(input_dim=1,\n",
    "                 hidden_dim=16,\n",
    "                 kernel_size=(3, 3),\n",
    "                 num_layers=1,\n",
    "                 batch_first=True,\n",
    "                 bias=True,\n",
    "                 return_all_layers=False).to(device)\n",
    "                    \n",
    "if not os.path.exists('models/cvae_best.pt'):\n",
    "    print('No trained model available')  # do something else here\n",
    "else:\n",
    "    cvae.load_state_dict(torch.load('models/cvae_best.pt'))\n",
    "    clstm_state_dict = torch.load('models/clstm.pt', map_location=torch.device('cpu'))\n",
    "    clstm.load_state_dict(clstm_state_dict)\n",
    "    \n",
    "cvae.eval()\n",
    "clstm.eval();"
   ]
  },
  {
   "cell_type": "markdown",
   "id": "6ef01cc9",
   "metadata": {},
   "source": [
    "### Generate Model Predictions:"
   ]
  },
  {
   "cell_type": "markdown",
   "id": "2e33d784",
   "metadata": {},
   "source": [
    "Explain what I'm doing here..."
   ]
  },
  {
   "cell_type": "code",
   "execution_count": 31,
   "id": "ac21bfa5",
   "metadata": {},
   "outputs": [],
   "source": [
    "def predict(model, background_dataset, timesteps):\n",
    "    preds = []\n",
    "    for i in range(len(background_dataset)-1):\n",
    "        pred,_ = model(background_dataset[i][0].unsqueeze(0)) \n",
    "        for j in range(timesteps):\n",
    "            if j == 0:\n",
    "                pred,_ = model(background_dataset[i][0].unsqueeze(0)) \n",
    "            else:\n",
    "                pred, _ = model(pred)           \n",
    "        preds.append(pred.detach().numpy())\n",
    "    preds = np.array(preds).squeeze() \n",
    "    return preds"
   ]
  },
  {
   "cell_type": "code",
   "execution_count": 32,
   "id": "8e6c64f6",
   "metadata": {},
   "outputs": [],
   "source": [
    "cvae_preds = predict(cvae, background_dataset, 10)"
   ]
  },
  {
   "cell_type": "code",
   "execution_count": null,
   "id": "603dc136",
   "metadata": {},
   "outputs": [],
   "source": [
    "class SequenceDataset(TensorDataset):\n",
    "    def __init__(self, data,sequence_length=4):\n",
    "        self.data = data.astype('float64')\n",
    "        self.sequence_length = sequence_length\n",
    " \n",
    "    def __getitem__(self, idx):\n",
    "        ind = ((idx+1) // (100-self.sequence_length*10))*(self.sequence_length*10) + idx\n",
    "        sample_input = torch.tensor(self.data[ind:ind+self.sequence_length*10:10])      \n",
    "        sample_output = torch.tensor(self.data[ind+self.sequence_length*10])\n",
    " \n",
    "        return sample_input[:,None,:], sample_output[None,:,:]\n",
    "    \n",
    "    def __len__(self):\n",
    "        return len(self.data) - 125 * (self.sequence_length*10) - self.sequence_length*10"
   ]
  },
  {
   "cell_type": "code",
   "execution_count": 33,
   "id": "6fd72355",
   "metadata": {},
   "outputs": [
    {
     "ename": "AttributeError",
     "evalue": "'TensorDataset' object has no attribute 'size'",
     "output_type": "error",
     "traceback": [
      "\u001b[0;31m---------------------------------------------------------------------------\u001b[0m",
      "\u001b[0;31mAttributeError\u001b[0m                            Traceback (most recent call last)",
      "Cell \u001b[0;32mIn [33], line 1\u001b[0m\n\u001b[0;32m----> 1\u001b[0m clstm_preds \u001b[38;5;241m=\u001b[39m \u001b[43mclstm\u001b[49m\u001b[43m(\u001b[49m\u001b[43mbackground_dataset\u001b[49m\u001b[43m)\u001b[49m\n",
      "File \u001b[0;32m/opt/homebrew/Caskroom/miniconda/base/lib/python3.9/site-packages/torch/nn/modules/module.py:1501\u001b[0m, in \u001b[0;36mModule._call_impl\u001b[0;34m(self, *args, **kwargs)\u001b[0m\n\u001b[1;32m   1496\u001b[0m \u001b[38;5;66;03m# If we don't have any hooks, we want to skip the rest of the logic in\u001b[39;00m\n\u001b[1;32m   1497\u001b[0m \u001b[38;5;66;03m# this function, and just call forward.\u001b[39;00m\n\u001b[1;32m   1498\u001b[0m \u001b[38;5;28;01mif\u001b[39;00m \u001b[38;5;129;01mnot\u001b[39;00m (\u001b[38;5;28mself\u001b[39m\u001b[38;5;241m.\u001b[39m_backward_hooks \u001b[38;5;129;01mor\u001b[39;00m \u001b[38;5;28mself\u001b[39m\u001b[38;5;241m.\u001b[39m_backward_pre_hooks \u001b[38;5;129;01mor\u001b[39;00m \u001b[38;5;28mself\u001b[39m\u001b[38;5;241m.\u001b[39m_forward_hooks \u001b[38;5;129;01mor\u001b[39;00m \u001b[38;5;28mself\u001b[39m\u001b[38;5;241m.\u001b[39m_forward_pre_hooks\n\u001b[1;32m   1499\u001b[0m         \u001b[38;5;129;01mor\u001b[39;00m _global_backward_pre_hooks \u001b[38;5;129;01mor\u001b[39;00m _global_backward_hooks\n\u001b[1;32m   1500\u001b[0m         \u001b[38;5;129;01mor\u001b[39;00m _global_forward_hooks \u001b[38;5;129;01mor\u001b[39;00m _global_forward_pre_hooks):\n\u001b[0;32m-> 1501\u001b[0m     \u001b[38;5;28;01mreturn\u001b[39;00m \u001b[43mforward_call\u001b[49m\u001b[43m(\u001b[49m\u001b[38;5;241;43m*\u001b[39;49m\u001b[43margs\u001b[49m\u001b[43m,\u001b[49m\u001b[43m \u001b[49m\u001b[38;5;241;43m*\u001b[39;49m\u001b[38;5;241;43m*\u001b[39;49m\u001b[43mkwargs\u001b[49m\u001b[43m)\u001b[49m\n\u001b[1;32m   1502\u001b[0m \u001b[38;5;66;03m# Do not call functions when jit is used\u001b[39;00m\n\u001b[1;32m   1503\u001b[0m full_backward_hooks, non_full_backward_hooks \u001b[38;5;241m=\u001b[39m [], []\n",
      "File \u001b[0;32m~/ads-wildfire-creek/wildfire/models/cLSTM.py:142\u001b[0m, in \u001b[0;36mConvLSTM.forward\u001b[0;34m(self, input_tensor, hidden_state)\u001b[0m\n\u001b[1;32m    138\u001b[0m \u001b[38;5;28;01mif\u001b[39;00m \u001b[38;5;129;01mnot\u001b[39;00m \u001b[38;5;28mself\u001b[39m\u001b[38;5;241m.\u001b[39mbatch_first:\n\u001b[1;32m    139\u001b[0m     \u001b[38;5;66;03m# (t, b, c, h, w) -> (b, t, c, h, w)\u001b[39;00m\n\u001b[1;32m    140\u001b[0m     input_tensor \u001b[38;5;241m=\u001b[39m input_tensor\u001b[38;5;241m.\u001b[39mpermute(\u001b[38;5;241m1\u001b[39m, \u001b[38;5;241m0\u001b[39m, \u001b[38;5;241m2\u001b[39m, \u001b[38;5;241m3\u001b[39m, \u001b[38;5;241m4\u001b[39m)\n\u001b[0;32m--> 142\u001b[0m b, _, _, h, w \u001b[38;5;241m=\u001b[39m \u001b[43minput_tensor\u001b[49m\u001b[38;5;241;43m.\u001b[39;49m\u001b[43msize\u001b[49m()\n\u001b[1;32m    144\u001b[0m \u001b[38;5;66;03m# Implement stateful ConvLSTM\u001b[39;00m\n\u001b[1;32m    145\u001b[0m \u001b[38;5;28;01mif\u001b[39;00m hidden_state \u001b[38;5;129;01mis\u001b[39;00m \u001b[38;5;129;01mnot\u001b[39;00m \u001b[38;5;28;01mNone\u001b[39;00m:\n",
      "\u001b[0;31mAttributeError\u001b[0m: 'TensorDataset' object has no attribute 'size'"
     ]
    }
   ],
   "source": [
    "clstm_preds = clstm(background_dataset)"
   ]
  },
  {
   "cell_type": "markdown",
   "id": "07e66823",
   "metadata": {},
   "source": [
    "### Compress predictions and observed data:"
   ]
  },
  {
   "cell_type": "markdown",
   "id": "4ad88d97",
   "metadata": {},
   "source": [
    "Explain what I'm doing here..."
   ]
  },
  {
   "cell_type": "code",
   "execution_count": null,
   "id": "e4de0783",
   "metadata": {},
   "outputs": [],
   "source": [
    "pca = PCA(n_components = 5)\n",
    "\n",
    "obs_data_1D = np.reshape(obs_data,(obs_data.shape[0],obs_data.shape[1]*obs_data.shape[2]))\n",
    "obs_data_compr = pca.fit_transform(obs_data_1D)\n",
    "\n",
    "cvae_preds_1D = np.reshape(cvae_preds,(cvae_preds.shape[0],cvae_preds.shape[1]*cvae_preds.shape[2]))\n",
    "cvae_preds_compr = pca.transform(cvae_preds_1D)"
   ]
  },
  {
   "cell_type": "code",
   "execution_count": null,
   "id": "6a790c9a",
   "metadata": {},
   "outputs": [],
   "source": [
    "# compress lstm preds here"
   ]
  },
  {
   "cell_type": "markdown",
   "id": "dcb3a746",
   "metadata": {},
   "source": [
    "### Perform data assimilation (DA):"
   ]
  },
  {
   "cell_type": "markdown",
   "id": "b21828a7",
   "metadata": {},
   "source": [
    "Explain what I'm doing here"
   ]
  },
  {
   "cell_type": "code",
   "execution_count": null,
   "id": "2ac2a31d",
   "metadata": {},
   "outputs": [],
   "source": [
    "cvae_assimilated_preds = run_assimilation(cvae_preds_compr, obs_data_compr)\n",
    "cvae_assimilated_preds = np.array(pca.inverse_transform(cvae_assimilated_preds))"
   ]
  },
  {
   "cell_type": "code",
   "execution_count": null,
   "id": "ebf77d60",
   "metadata": {},
   "outputs": [],
   "source": [
    "# perform assimilation with lstm preds here"
   ]
  },
  {
   "cell_type": "markdown",
   "id": "f6683c07",
   "metadata": {},
   "source": [
    "### MSE, before vs after DA:"
   ]
  },
  {
   "cell_type": "code",
   "execution_count": null,
   "id": "a5950e45",
   "metadata": {},
   "outputs": [],
   "source": [
    "vae_before = mean_squared_error(obs_data_1D[1:], cvae_preds_1D)\n",
    "vae_after = mean_squared_error(obs_data_1D[1:], cvae_assimilated_preds)\n",
    "\n",
    "print(f'CVAE MSE (in physical space) before DA: {vae_before}')\n",
    "print(f'CVAE MSE (in physical space) after DA: {vae_after}')"
   ]
  },
  {
   "cell_type": "code",
   "execution_count": null,
   "id": "f0a37423",
   "metadata": {},
   "outputs": [],
   "source": [
    "# display mse between actual, predictions, and assimilated predictions for LSTM here"
   ]
  },
  {
   "cell_type": "markdown",
   "id": "91da05f0",
   "metadata": {},
   "source": [
    "### Plot results (actual vs forecasted vs assimilated forecasted):"
   ]
  },
  {
   "cell_type": "markdown",
   "id": "61ca3e67",
   "metadata": {},
   "source": [
    "### Objective 1 Model (ConvVAE):"
   ]
  },
  {
   "cell_type": "code",
   "execution_count": null,
   "id": "e5e4ed90",
   "metadata": {},
   "outputs": [],
   "source": [
    "fig, ax = plt.subplots(3, 4, figsize=[20, 8])\n",
    "fig.tight_layout(pad=4)\n",
    "cvae_assimilated_preds = np.reshape(cvae_assimilated_preds, (cvae_assimilated_preds.shape[0], obs_data.shape[1],obs_data.shape[2]))\n",
    "for n in range(len(background_data)-1):\n",
    "    ax[0, n].imshow(obs_data[n+1])\n",
    "    ax[0, n].axis('off')\n",
    "    ax[1, n].imshow(cvae_preds[n])\n",
    "    ax[1, n].axis('off')\n",
    "    ax[2, n].imshow(cvae_assimilated_preds[n])\n",
    "    ax[2, n].axis('off')    \n",
    "    if n==0:\n",
    "        ax[0,n].set_title('Actual:', fontsize=20, pad=20, loc='left')\n",
    "        ax[1,n].set_title('Forecasted:', fontsize=20, pad=20, loc='left')\n",
    "        ax[2,n].set_title('Forecasted (with DA):', fontsize=20, pad=20, loc='left')"
   ]
  },
  {
   "cell_type": "markdown",
   "id": "640cfef3",
   "metadata": {},
   "source": [
    "### Objective 2 Model (ConvVAE):"
   ]
  },
  {
   "cell_type": "code",
   "execution_count": null,
   "id": "5d49a688",
   "metadata": {},
   "outputs": [],
   "source": [
    "# visualise actual, predictions, and assimilated predictions for LSTM here"
   ]
  }
 ],
 "metadata": {
  "kernelspec": {
   "display_name": "Python 3 (ipykernel)",
   "language": "python",
   "name": "python3"
  },
  "language_info": {
   "codemirror_mode": {
    "name": "ipython",
    "version": 3
   },
   "file_extension": ".py",
   "mimetype": "text/x-python",
   "name": "python",
   "nbconvert_exporter": "python",
   "pygments_lexer": "ipython3",
   "version": "3.9.13"
  }
 },
 "nbformat": 4,
 "nbformat_minor": 5
}
