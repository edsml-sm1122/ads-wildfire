{
 "cells": [
  {
   "cell_type": "code",
   "execution_count": 1,
   "id": "96156a9f",
   "metadata": {},
   "outputs": [],
   "source": [
    "import os\n",
    "import numpy as np\n",
    "import matplotlib.pyplot as plt\n",
    "import torch\n",
    "import torch.utils.data as data\n",
    "from torch.utils.data import DataLoader,TensorDataset\n",
    "from sklearn.decomposition import PCA\n",
    "from sklearn.metrics import mean_squared_error\n",
    "\n",
    "from utils.assimilate import run_assimilation\n",
    "from models import cVAE, cLSTM"
   ]
  },
  {
   "cell_type": "markdown",
   "id": "539d140e",
   "metadata": {},
   "source": [
    "### Load/Process Data:"
   ]
  },
  {
   "cell_type": "code",
   "execution_count": 2,
   "id": "b810e2dd",
   "metadata": {},
   "outputs": [],
   "source": [
    "background_path = 'data/Ferguson_fire_background.npy'\n",
    "background_data = np.array(np.load(open(background_path,'rb')))\n",
    "background_dataset = TensorDataset(torch.Tensor(background_data))\n",
    "\n",
    "obs_path = 'data/Ferguson_fire_obs.npy'\n",
    "obs_data = np.array(np.load(open(obs_path,'rb')))\n",
    "obs_dataset = TensorDataset(torch.Tensor(obs_data))"
   ]
  },
  {
   "cell_type": "markdown",
   "id": "392393e7",
   "metadata": {},
   "source": [
    "### Load Models:"
   ]
  },
  {
   "cell_type": "code",
   "execution_count": 3,
   "id": "2384495c",
   "metadata": {},
   "outputs": [],
   "source": [
    "device = 'cpu'\n",
    "cvae = cVAE.VAE_Conv(device).to(device)\n",
    "\n",
    "if not os.path.exists('models/cvae.pt'):\n",
    "    print('No trained model availabe')  # do something else here\n",
    "else:\n",
    "    cvae.load_state_dict(torch.load('models/cvae.pt'))\n",
    "\n",
    "cvae.eval();"
   ]
  },
  {
   "cell_type": "code",
   "execution_count": 4,
   "id": "f36c89ad",
   "metadata": {},
   "outputs": [],
   "source": [
    "# load LSTM model here"
   ]
  },
  {
   "cell_type": "markdown",
   "id": "248eea6a",
   "metadata": {},
   "source": [
    "### Generate Model Predictions:"
   ]
  },
  {
   "cell_type": "code",
   "execution_count": 7,
   "id": "ab7556c2",
   "metadata": {},
   "outputs": [],
   "source": [
    "def predict(model, background_dataset, timesteps):\n",
    "    preds = []\n",
    "    for i in range(len(background_dataset)):\n",
    "        pred,_ = model(background_dataset[i][0].unsqueeze(0)) \n",
    "        for j in range(timesteps):\n",
    "            if j == 0:\n",
    "                pred,_ = model(background_dataset[i][0].unsqueeze(0)) \n",
    "            else:\n",
    "                pred, _ = model(pred)           \n",
    "        preds.append(pred.detach().numpy())\n",
    "    preds = np.array(preds).squeeze() "
   ]
  },
  {
   "cell_type": "code",
   "execution_count": 8,
   "id": "d6e534cd",
   "metadata": {},
   "outputs": [],
   "source": [
    "cvae_preds = predict(cvae, background_dataset, 10)"
   ]
  },
  {
   "cell_type": "code",
   "execution_count": null,
   "id": "e7f51829",
   "metadata": {},
   "outputs": [],
   "source": [
    "# generate forecasts with LSTM here"
   ]
  },
  {
   "cell_type": "markdown",
   "id": "d6c0031d",
   "metadata": {},
   "source": [
    "### Compress predictions and observed data:"
   ]
  },
  {
   "cell_type": "code",
   "execution_count": null,
   "id": "cc7d751b",
   "metadata": {},
   "outputs": [],
   "source": [
    "pca = PCA(n_components = 5)\n",
    "\n",
    "obs_data_1D = np.reshape(obs_data,(obs_data.shape[0],obs_data.shape[1]*obs_data.shape[2]))\n",
    "obs_data_compr = pca.fit_transform(obs_data_1D)\n",
    "\n",
    "cvae_preds_1D = np.reshape(preds,(preds.shape[0],preds.shape[1]*preds.shape[2]))\n",
    "cvae_preds_compr = pca.transform(preds_1D)"
   ]
  },
  {
   "cell_type": "code",
   "execution_count": null,
   "id": "a41a99df",
   "metadata": {},
   "outputs": [],
   "source": [
    "# compress lstm preds here"
   ]
  },
  {
   "cell_type": "markdown",
   "id": "36a04703",
   "metadata": {},
   "source": [
    "### Perform data assimilation (DA):"
   ]
  },
  {
   "cell_type": "code",
   "execution_count": null,
   "id": "1913afb5",
   "metadata": {},
   "outputs": [],
   "source": [
    "cvae_assimilated_preds = run_assimilation(cvae_preds_compr, obs_compr)\n",
    "cvae_assimilated_preds = np.array(pca.inverse_transform(cvae_assimilated_preds))"
   ]
  },
  {
   "cell_type": "code",
   "execution_count": null,
   "id": "0e227303",
   "metadata": {},
   "outputs": [],
   "source": [
    "# perform assimilation with lstm preds here"
   ]
  },
  {
   "cell_type": "markdown",
   "id": "fb99f267",
   "metadata": {},
   "source": [
    "### MSE, before vs after DA:"
   ]
  },
  {
   "cell_type": "code",
   "execution_count": null,
   "id": "b43cdfe7",
   "metadata": {},
   "outputs": [],
   "source": [
    "vae_before = mean_squared_error(obs_data_1D, preds_1D)\n",
    "vae_after = mean_squared_error(obs_data_1D, assimilated_preds)\n",
    "\n",
    "print(f'CVAE MSE (in physical space) before DA: {vae_before}')\n",
    "print(f'CVAE MSE (in physical space) after DA: {vae_after}')"
   ]
  },
  {
   "cell_type": "code",
   "execution_count": null,
   "id": "8051b79c",
   "metadata": {},
   "outputs": [],
   "source": [
    "# display mse between actual, predictions, and assimilated predictions for LSTM here"
   ]
  },
  {
   "cell_type": "markdown",
   "id": "5b1f8b7e",
   "metadata": {},
   "source": [
    "### Plot results (actual vs forecasted vs assimilated forecasted):"
   ]
  },
  {
   "cell_type": "markdown",
   "id": "fdead30f",
   "metadata": {},
   "source": [
    "### Objective 1 Model (ConvVAE):"
   ]
  },
  {
   "cell_type": "code",
   "execution_count": null,
   "id": "e9efcf76",
   "metadata": {},
   "outputs": [],
   "source": [
    "fig, ax = plt.subplots(3, 5, figsize=[20, 8])\n",
    "fig.tight_layout(pad=4)\n",
    "assimilated_preds = np.reshape(assimilated_preds, (assimilated_preds.shape[0], obs_data.shape[1],obs_data.shape[2]))\n",
    "for n in range(len(background_data)):\n",
    "    ax[0, n].imshow(obs_data[n])\n",
    "    ax[0, n].axis('off')\n",
    "    ax[1, n].imshow(preds[n])\n",
    "    ax[1, n].axis('off')\n",
    "    ax[2, n].imshow(assimilated_preds[n])\n",
    "    ax[2, n].axis('off')    \n",
    "    if n==0:\n",
    "        ax[0,n].set_title('Actual:', fontsize=20, pad=20, loc='left')\n",
    "        ax[1,n].set_title('Forecasted:', fontsize=20, pad=20, loc='left')\n",
    "        ax[2,n].set_title('Forecasted (with DA):', fontsize=20, pad=20, loc='left')"
   ]
  },
  {
   "cell_type": "markdown",
   "id": "217da1f9",
   "metadata": {},
   "source": [
    "### Objective 2 Model (ConvVAE):"
   ]
  },
  {
   "cell_type": "code",
   "execution_count": null,
   "id": "a8389b80",
   "metadata": {},
   "outputs": [],
   "source": [
    "# visualise actual, predictions, and assimilated predictions for LSTM here"
   ]
  }
 ],
 "metadata": {
  "kernelspec": {
   "display_name": "Python 3 (ipykernel)",
   "language": "python",
   "name": "python3"
  },
  "language_info": {
   "codemirror_mode": {
    "name": "ipython",
    "version": 3
   },
   "file_extension": ".py",
   "mimetype": "text/x-python",
   "name": "python",
   "nbconvert_exporter": "python",
   "pygments_lexer": "ipython3",
   "version": "3.9.13"
  }
 },
 "nbformat": 4,
 "nbformat_minor": 5
}
